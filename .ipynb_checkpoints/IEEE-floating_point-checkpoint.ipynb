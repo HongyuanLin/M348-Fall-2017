{
 "cells": [
  {
   "cell_type": "markdown",
   "metadata": {},
   "source": [
    "# IEEE floating points\n",
    "\n",
    "* A single precision floating point number is defiend by 32 bits.\n",
    "* Each bit takes the value of either 0 or 1 (base 2 system)\n",
    "\n",
    "* The first bit is for the sign of the number, and uses the convention $$ (-1)^S, $$ \n",
    "        * so S=0 if the number is positive\n",
    "\n",
    "* The next 8 bits gives the magnitude of the number, in base 2. This quatity is represented by here by $e$:\n",
    "$$ e = b_7 2^7 + b_6 2^6 +\\cdots+ b_0 2^0$$ \n",
    "\n",
    "* The remaining 23 bits stores the actual \"digits\" of the number.\n",
    "\n",
    "$$ A = (-1)^S*\\frac{e}{2^127}*1.m = (-1)^S \\times 2^{e-127} \\times (1.m)_{\\mathrm{base} 2} $$\n",
    "\n",
    "* Base 2 representation: $$(1.m)_{\\mathrm{base} 2} = 1+ b_1~2^{-1} + b_2~2^{-2}+\\cdots+b_{23}~2^{-23}$$\n",
    "\n"
   ]
  },
  {
   "cell_type": "code",
   "execution_count": 6,
   "metadata": {
    "collapsed": false
   },
   "outputs": [
    {
     "name": "stdout",
     "output_type": "stream",
     "text": [
      "\u001b[31m0\u001b[0m \u001b[32m10000000\u001b[0m \u001b[34m01000000000000000000000\u001b[0m"
     ]
    }
   ],
   "source": [
    "printbits(Float32(2.5))"
   ]
  },
  {
   "cell_type": "code",
   "execution_count": 2,
   "metadata": {
    "collapsed": false
   },
   "outputs": [
    {
     "data": {
      "text/plain": [
       "printbits (generic function with 2 methods)"
      ]
     },
     "execution_count": 2,
     "metadata": {},
     "output_type": "execute_result"
    }
   ],
   "source": [
    "printred(x)  =print(\"\\x1b[31m\"*x*\"\\x1b[0m \")\n",
    "printgreen(x)=print(\"\\x1b[32m\"*x*\"\\x1b[0m \")\n",
    "printblue(x) =print(\"\\x1b[34m\"*x*\"\\x1b[0m\\n\")\n",
    "\n",
    "#for ANSI codes for defining color in a terminal: check out the blog: \n",
    "# http://jafrog.com/2013/11/23/colors-in-terminal.html\n",
    "\n",
    "\n",
    "function printbits(x::Float32)\n",
    "   bts=bits(x)\n",
    "    printred(bts[1:1])\n",
    "    printgreen(bts[2:2+8-1])\n",
    "    printblue(bts[2+8:end])\n",
    "end\n",
    "\n",
    "function printbits(x::Float64)\n",
    "#to be filled in as a homework assignment\n",
    "end"
   ]
  },
  {
   "cell_type": "code",
   "execution_count": 12,
   "metadata": {
    "collapsed": false
   },
   "outputs": [
    {
     "name": "stdout",
     "output_type": "stream",
     "text": [
      "Sub-normal numbers: \n",
      "-0.0: "
     ]
    },
    {
     "data": {
      "text/plain": [
       "\"1000000000000000000000000000000000000000000000000000000000000000\""
      ]
     },
     "execution_count": 12,
     "metadata": {},
     "output_type": "execute_result"
    }
   ],
   "source": [
    "println(\"Sub-normal numbers: \")\n",
    "print(\"-0.0: \")\n",
    "bits(-0.0)"
   ]
  },
  {
   "cell_type": "code",
   "execution_count": 13,
   "metadata": {
    "collapsed": false
   },
   "outputs": [
    {
     "name": "stdout",
     "output_type": "stream",
     "text": [
      "Exceptions: \n",
      " NaN = \u001b[31m0\u001b[0m \u001b[32m11111111\u001b[0m \u001b[34m10000000000000000000000\u001b[0m\n",
      "\n",
      " Inf = \u001b[31m0\u001b[0m \u001b[32m11111111\u001b[0m \u001b[34m00000000000000000000000\u001b[0m\n",
      "\n",
      "-Inf = \u001b[31m1\u001b[0m \u001b[32m11111111\u001b[0m \u001b[34m00000000000000000000000\u001b[0m\n"
     ]
    }
   ],
   "source": [
    "println(\"Exceptions: \")\n",
    "print(\" NaN = \")\n",
    "printbits(Float32(NaN))\n",
    "println()\n",
    "\n",
    "print(\" Inf = \")\n",
    "printbits(Float32(Inf))\n",
    "println()\n",
    "\n",
    "print(\"-Inf = \")\n",
    "printbits(Float32(-Inf))"
   ]
  },
  {
   "cell_type": "markdown",
   "metadata": {},
   "source": [
    "# Home work assignments:\n",
    "\n",
    "1. Write a Julia function that prints the bits of a double precision floating point.\n",
    "\n",
    "2. Write an algorithm, in psuedo-code, that converts a given real number into the closest IEEE floating number. You may assume that all the mathematical Explain your algorithm.\n",
    "\n",
    "3. Let $x$ be a floating number in $[1,2]$. Can $x*(1/x)$ be different from $1$ on a computer? find an upper bound on $|1-fl(x*fl(1/x))|$. Explain your answer."
   ]
  },
  {
   "cell_type": "markdown",
   "metadata": {},
   "source": [
    "## Cancellation errors"
   ]
  },
  {
   "cell_type": "code",
   "execution_count": 9,
   "metadata": {
    "collapsed": false
   },
   "outputs": [
    {
     "name": "stdout",
     "output_type": "stream",
     "text": [
      "\u001b[31m0\u001b[0m \u001b[32m01111101\u001b[0m \u001b[34m01010101010101010101011\u001b[0m\n",
      "\n",
      "\u001b[31m0\u001b[0m \u001b[32m01111101\u001b[0m \u001b[34m01010101010101010101100\u001b[0m\n",
      "\n",
      "\u001b[31m1\u001b[0m \u001b[32m01111010\u001b[0m \u001b[34m00000000000000000000000\u001b[0m\n",
      "-0.03125\n"
     ]
    }
   ],
   "source": [
    "a=Float32(1/3)\n",
    "b=Float32(1/3)+Float32(2.0^(-25)*(π/4))\n",
    "\n",
    "printbits(a)\n",
    "println()\n",
    "printbits(b)\n",
    "println()\n",
    "\n",
    "c=(a-b)*2^20\n",
    "printbits(c)\n",
    "\n",
    "println(c)"
   ]
  },
  {
   "cell_type": "code",
   "execution_count": 10,
   "metadata": {
    "collapsed": false
   },
   "outputs": [
    {
     "name": "stdout",
     "output_type": "stream",
     "text": [
      "\u001b[31m0\u001b[0m \u001b[32m01111111101\u001b[0m \u001b[34m0101010101010101010101010101010101010101010101010101\u001b[0m\n",
      "\n",
      "\u001b[31m0\u001b[0m \u001b[32m01111111101\u001b[0m \u001b[34m0101010101010101010101101110011101110101000010101001\u001b[0m\n",
      "\n",
      "\n",
      "-0.024543692590668797\n"
     ]
    }
   ],
   "source": [
    "a=Float64(1/3)\n",
    "b=Float64(1/3)+Float64(2.0^(-25)*(π/4))\n",
    "\n",
    "printbits(a)\n",
    "println()\n",
    "printbits(b)\n",
    "println()\n",
    "\n",
    "println()\n",
    "c=(a-b)*2^20\n",
    "\n",
    "println(c)"
   ]
  },
  {
   "cell_type": "code",
   "execution_count": 25,
   "metadata": {
    "collapsed": false
   },
   "outputs": [
    {
     "data": {
      "text/plain": [
       "-9.934107481068821e-9"
      ]
     },
     "execution_count": 25,
     "metadata": {},
     "output_type": "execute_result"
    }
   ],
   "source": [
    "a=Float64(Float32(1/3))\n",
    "bb=a+Float64(2.0^(-28)*(π/4))\n",
    "\n",
    "b-bb"
   ]
  },
  {
   "cell_type": "markdown",
   "metadata": {},
   "source": [
    "## Problem of evaluating the quadratic formula\n",
    "\n",
    "$$ ax^2+bx+x = 0 \\implies x=\\pm \\frac{-b\\pm\\sqrt{b^2-4ac}}{2a} $$\n",
    "\n",
    "* Cancellation errors occurs when $b^2$ is much bigger than $4ac$. \n",
    "* If so, the root $$ \\sqrt{b^2-4ac} \\approx |b| $$ and the root $$x= (-b-(|b|+\\delta))/2a $$ will lose accuracy"
   ]
  },
  {
   "cell_type": "code",
   "execution_count": 7,
   "metadata": {
    "collapsed": false
   },
   "outputs": [
    {
     "data": {
      "text/plain": [
       "-1.000088900582341e-12"
      ]
     },
     "execution_count": 7,
     "metadata": {},
     "output_type": "execute_result"
    }
   ],
   "source": [
    "a=1.0\n",
    "c=1e-12\n",
    "b=2.0\n",
    "\n",
    "bb=-b+sqrt(b^2-4.0*a*c)"
   ]
  },
  {
   "cell_type": "code",
   "execution_count": 12,
   "metadata": {
    "collapsed": false
   },
   "outputs": [
    {
     "data": {
      "text/plain": [
       "-1.00000000000025e-12"
      ]
     },
     "execution_count": 12,
     "metadata": {},
     "output_type": "execute_result"
    }
   ],
   "source": [
    "#remedy formula:\n",
    "\n",
    "4.0*a*c/(-b-sqrt(b^2-4.0*a*c))"
   ]
  },
  {
   "cell_type": "markdown",
   "metadata": {},
   "source": [
    "### Use of BigFloat\n",
    "\n",
    "We apply the standard quadratic formula with floating points with many more digits.\n",
    "The outcome should be close to the one evaluated by the modified formula."
   ]
  },
  {
   "cell_type": "code",
   "execution_count": 13,
   "metadata": {
    "collapsed": false
   },
   "outputs": [
    {
     "data": {
      "text/plain": [
       "-1.000000000000249979886647754245558691145588771407201475735952561810612921414033e-12"
      ]
     },
     "execution_count": 13,
     "metadata": {},
     "output_type": "execute_result"
    }
   ],
   "source": [
    "A=BigFloat(1.0)\n",
    "C=BigFloat(1e-12)\n",
    "B=BigFloat(2.0)\n",
    "\n",
    "BB=-B+sqrt(B^2-4.0*A*C)"
   ]
  },
  {
   "cell_type": "code",
   "execution_count": null,
   "metadata": {
    "collapsed": true
   },
   "outputs": [],
   "source": []
  }
 ],
 "metadata": {
  "kernelspec": {
   "display_name": "Julia 0.7.0-DEV",
   "language": "julia",
   "name": "julia-0.7"
  },
  "language_info": {
   "file_extension": ".jl",
   "mimetype": "application/julia",
   "name": "julia",
   "version": "0.7.0"
  }
 },
 "nbformat": 4,
 "nbformat_minor": 2
}
