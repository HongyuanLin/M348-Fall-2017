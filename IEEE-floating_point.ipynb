{
 "cells": [
  {
   "cell_type": "markdown",
   "metadata": {},
   "source": [
    "# IEEE floating points\n",
    "\n",
    "* A single precision floating point number is defiend by 32 bits.\n",
    "* Each bit takes the value of either 0 or 1 (base 2 system)\n",
    "\n",
    "* The first bit is for the sign of the number, and uses the convention $$ (-1)^S, $$ \n",
    "        * so S=0 if the number is positive\n",
    "\n",
    "* The next 8 bits gives the magnitude of the number, in base 2. This quatity is represented by here by $e$:\n",
    "$$ e = b_7 2^7 + b_6 2^6 +\\cdots+ b_0 2^0$$ \n",
    "\n",
    "* The remaining 23 bits stores the actual \"digits\" of the number.\n",
    "\n",
    "$$ A = (-1)^S*\\frac{e}{2^127}*1.m = (-1)^S \\times 2^{e-127} \\times (1.m)_{\\mathrm{base} 2} $$\n",
    "\n",
    "* Base 2 representation: $$(1.m)_{\\mathrm{base} 2} = 1+ b_1~2^{-1} + b_2~2^{-2}+\\cdots+b_{23}~2^{-23}$$\n",
    "\n"
   ]
  },
  {
   "cell_type": "code",
   "execution_count": 6,
   "metadata": {
    "collapsed": false
   },
   "outputs": [
    {
     "name": "stdout",
     "output_type": "stream",
     "text": [
      "\u001b[31m0\u001b[0m \u001b[32m10000000\u001b[0m \u001b[34m01000000000000000000000\u001b[0m"
     ]
    }
   ],
   "source": [
    "printbits(Float32(2.5))"
   ]
  },
  {
   "cell_type": "code",
   "execution_count": 2,
   "metadata": {
    "collapsed": false
   },
   "outputs": [
    {
     "data": {
      "text/plain": [
       "printbits (generic function with 2 methods)"
      ]
     },
     "execution_count": 2,
     "metadata": {},
     "output_type": "execute_result"
    }
   ],
   "source": [
    "printred(x)  =print(\"\\x1b[31m\"*x*\"\\x1b[0m \")\n",
    "printgreen(x)=print(\"\\x1b[32m\"*x*\"\\x1b[0m \")\n",
    "printblue(x) =print(\"\\x1b[34m\"*x*\"\\x1b[0m\\n\")\n",
    "\n",
    "#for ANSI codes for defining color in a terminal: check out the blog: \n",
    "# http://jafrog.com/2013/11/23/colors-in-terminal.html\n",
    "\n",
    "\n",
    "function printbits(x::Float32)\n",
    "   bts=bits(x)\n",
    "    printred(bts[1:1])\n",
    "    printgreen(bts[2:2+8-1])\n",
    "    printblue(bts[2+8:end])\n",
    "end\n",
    "\n",
    "function printbits(x::Float64)\n",
    "#to be filled in as a homework assignment\n",
    "end"
   ]
  },
  {
   "cell_type": "code",
   "execution_count": 12,
   "metadata": {
    "collapsed": false
   },
   "outputs": [
    {
     "name": "stdout",
     "output_type": "stream",
     "text": [
      "Sub-normal numbers: \n",
      "-0.0: "
     ]
    },
    {
     "data": {
      "text/plain": [
       "\"1000000000000000000000000000000000000000000000000000000000000000\""
      ]
     },
     "execution_count": 12,
     "metadata": {},
     "output_type": "execute_result"
    }
   ],
   "source": [
    "println(\"Sub-normal numbers: \")\n",
    "print(\"-0.0: \")\n",
    "bits(-0.0)"
   ]
  },
  {
   "cell_type": "code",
   "execution_count": 13,
   "metadata": {
    "collapsed": false
   },
   "outputs": [
    {
     "name": "stdout",
     "output_type": "stream",
     "text": [
      "Exceptions: \n",
      " NaN = \u001b[31m0\u001b[0m \u001b[32m11111111\u001b[0m \u001b[34m10000000000000000000000\u001b[0m\n",
      "\n",
      " Inf = \u001b[31m0\u001b[0m \u001b[32m11111111\u001b[0m \u001b[34m00000000000000000000000\u001b[0m\n",
      "\n",
      "-Inf = \u001b[31m1\u001b[0m \u001b[32m11111111\u001b[0m \u001b[34m00000000000000000000000\u001b[0m\n"
     ]
    }
   ],
   "source": [
    "println(\"Exceptions: \")\n",
    "print(\" NaN = \")\n",
    "printbits(Float32(NaN))\n",
    "println()\n",
    "\n",
    "print(\" Inf = \")\n",
    "printbits(Float32(Inf))\n",
    "println()\n",
    "\n",
    "print(\"-Inf = \")\n",
    "printbits(Float32(-Inf))"
   ]
  },
  {
   "cell_type": "markdown",
   "metadata": {},
   "source": [
    "# Home work assignments:\n",
    "\n",
    "1. Write a Julia function that prints the bits of a double precision floating point.\n",
    "\n",
    "2. Write an algorithm, in psuedo-code, that converts a given real number into the closest IEEE floating number. You may assume that all the mathematical Explain your algorithm.\n",
    "\n",
    "3. Let $x$ be a floating number in $[1,2]$. Can $x*(1/x)$ be different from $1$ on a computer? find an upper bound on $|1-fl(x*fl(1/x))|$. Explain your answer."
   ]
  },
  {
   "cell_type": "markdown",
   "metadata": {},
   "source": [
    "## Cancellation errors"
   ]
  },
  {
   "cell_type": "code",
   "execution_count": 9,
   "metadata": {
    "collapsed": false
   },
   "outputs": [
    {
     "name": "stdout",
     "output_type": "stream",
     "text": [
      "\u001b[31m0\u001b[0m \u001b[32m01111101\u001b[0m \u001b[34m01010101010101010101011\u001b[0m\n",
      "\n",
      "\u001b[31m0\u001b[0m \u001b[32m01111101\u001b[0m \u001b[34m01010101010101010101100\u001b[0m\n",
      "\n",
      "\u001b[31m1\u001b[0m \u001b[32m01111010\u001b[0m \u001b[34m00000000000000000000000\u001b[0m\n",
      "-0.03125\n"
     ]
    }
   ],
   "source": [
    "a=Float32(1/3)\n",
    "b=Float32(1/3)+Float32(2.0^(-25)*(π/4))\n",
    "\n",
    "printbits(a)\n",
    "println()\n",
    "printbits(b)\n",
    "println()\n",
    "\n",
    "c=(a-b)*2^20\n",
    "printbits(c)\n",
    "\n",
    "println(c)"
   ]
  },
  {
   "cell_type": "code",
   "execution_count": 10,
   "metadata": {
    "collapsed": false
   },
   "outputs": [
    {
     "name": "stdout",
     "output_type": "stream",
     "text": [
      "\u001b[31m0\u001b[0m \u001b[32m01111111101\u001b[0m \u001b[34m0101010101010101010101010101010101010101010101010101\u001b[0m\n",
      "\n",
      "\u001b[31m0\u001b[0m \u001b[32m01111111101\u001b[0m \u001b[34m0101010101010101010101101110011101110101000010101001\u001b[0m\n",
      "\n",
      "\n",
      "-0.024543692590668797\n"
     ]
    }
   ],
   "source": [
    "a=Float64(1/3)\n",
    "b=Float64(1/3)+Float64(2.0^(-25)*(π/4))\n",
    "\n",
    "printbits(a)\n",
    "println()\n",
    "printbits(b)\n",
    "println()\n",
    "\n",
    "println()\n",
    "c=(a-b)*2^20\n",
    "\n",
    "println(c)"
   ]
  },
  {
   "cell_type": "code",
   "execution_count": 25,
   "metadata": {
    "collapsed": false
   },
   "outputs": [
    {
     "data": {
      "text/plain": [
       "-9.934107481068821e-9"
      ]
     },
     "execution_count": 25,
     "metadata": {},
     "output_type": "execute_result"
    }
   ],
   "source": [
    "a=Float64(Float32(1/3))\n",
    "bb=a+Float64(2.0^(-28)*(π/4))\n",
    "\n",
    "b-bb"
   ]
  },
  {
   "cell_type": "markdown",
   "metadata": {},
   "source": [
    "## Problem of evaluating the quadratic formula\n",
    "\n",
    "$$ ax^2+bx+x = 0 \\implies x=\\pm \\frac{-b\\pm\\sqrt{b^2-4ac}}{2a} $$\n",
    "\n",
    "* Cancellation errors occurs when $b^2$ is much bigger than $4ac$. \n",
    "* If so, the root $$ \\sqrt{b^2-4ac} \\approx |b| $$ and the root $$x= (-b-(|b|+\\delta))/2a $$ will lose accuracy"
   ]
  },
  {
   "cell_type": "code",
   "execution_count": 1,
   "metadata": {
    "collapsed": false
   },
   "outputs": [
    {
     "data": {
      "text/plain": [
       "-1.000088900582341e-12"
      ]
     },
     "execution_count": 1,
     "metadata": {},
     "output_type": "execute_result"
    }
   ],
   "source": [
    "a=1.0\n",
    "c=1e-12\n",
    "b=2.0\n",
    "\n",
    "bad_formula=-b+sqrt(b^2-4.0*a*c)"
   ]
  },
  {
   "cell_type": "code",
   "execution_count": 2,
   "metadata": {
    "collapsed": false
   },
   "outputs": [
    {
     "data": {
      "text/plain": [
       "-1.00000000000025e-12"
      ]
     },
     "execution_count": 2,
     "metadata": {},
     "output_type": "execute_result"
    }
   ],
   "source": [
    "#remedy formula:\n",
    "\n",
    "good_formula=4.0*a*c/(-b-sqrt(b^2-4.0*a*c))"
   ]
  },
  {
   "cell_type": "markdown",
   "metadata": {},
   "source": [
    "### Use of BigFloat\n",
    "\n",
    "We apply the standard quadratic formula with floating points with many more digits.\n",
    "The outcome should be close to the one evaluated by the modified formula."
   ]
  },
  {
   "cell_type": "code",
   "execution_count": 3,
   "metadata": {
    "collapsed": false
   },
   "outputs": [
    {
     "name": "stdout",
     "output_type": "stream",
     "text": [
      "The computed number using the bad formula and BigFloat: \n",
      "-1.000000000000249979886647754245558691145588771407201475735952561810612921414033e-12\n",
      "\n",
      "is identical to the value computed by teh good formula: \n",
      "-1.00000000000025e-12\n"
     ]
    }
   ],
   "source": [
    "A=BigFloat(1.0)\n",
    "C=BigFloat(1e-12)\n",
    "B=BigFloat(2.0)\n",
    "\n",
    "BB=-B+sqrt(B^2-4.0*A*C)\n",
    "\n",
    "println(\"The computed number using the bad formula and BigFloat: \\n\", BB)\n",
    "println(\"\\nis identical to the value computed by teh good formula: \\n\", good_formula)"
   ]
  },
  {
   "cell_type": "markdown",
   "metadata": {},
   "source": [
    "## Example: comptuation of $\\pi$"
   ]
  },
  {
   "cell_type": "code",
   "execution_count": 5,
   "metadata": {
    "collapsed": false,
    "scrolled": true
   },
   "outputs": [
    {
     "data": {
      "text/plain": [
       "compute_pi_unstable_big (generic function with 1 method)"
      ]
     },
     "execution_count": 5,
     "metadata": {},
     "output_type": "execute_result"
    }
   ],
   "source": [
    "function compute_pi_unstable()\n",
    "    s=sqrt(3)/2;  A=3*s; n=6; #initialization \n",
    "    z=[A-pi n A s];\n",
    "    while s>1e-10\n",
    "        s=sqrt((1-sqrt(1-s*s))/2);\n",
    "        n=2*n; A=n/2*s;\n",
    "        z=[z; A-pi n A s]; #this is not an efficient way to compute.\n",
    "    end\n",
    "    zrow, zcol=size(z);\n",
    "    for i=1:zrow\n",
    "        @printf(\"%10d %20.15f %20.15f %20.15f\\n\", z[i,2], z[i,3], z[i,1], z[i,4])\n",
    "    end\n",
    "end\n",
    "\n",
    "function compute_pi_unstable_big()\n",
    "    s=BigFloat(sqrt(3)/2);  A=BigFloat(3*s); n=6; #initialization \n",
    "    z=[A-pi n A s];\n",
    "    while s>1e-10\n",
    "        s=sqrt((1-sqrt(1.0-s*s))/2);\n",
    "        n=2*n; A=n/2*s;\n",
    "        z=[z; A-pi n A s]; #this is not an efficient way to compute.\n",
    "    end\n",
    "    zrow, zcol=size(z);\n",
    "    for i=1:zrow\n",
    "        @printf(\"%10d %20.15f %20.15f %20.15f\\n\", z[i,2], z[i,3], z[i,1], z[i,4])\n",
    "    end\n",
    "end"
   ]
  },
  {
   "cell_type": "code",
   "execution_count": 6,
   "metadata": {
    "collapsed": false
   },
   "outputs": [
    {
     "name": "stdout",
     "output_type": "stream",
     "text": [
      "         6    2.598076211353316   -0.543516442236477    0.866025403784439\n",
      "        12    3.000000000000000   -0.141592653589793    0.500000000000000\n",
      "        24    3.105828541230249   -0.035764112359544    0.258819045102521\n",
      "        48    3.132628613281238   -0.008964040308555    0.130526192220052\n",
      "        96    3.139350203046867   -0.002242450542926    0.065403129230143\n",
      "       192    3.141031950890509   -0.000560702699284    0.032719082821776\n",
      "       384    3.141452472285462   -0.000140181304331    0.016361731626487\n",
      "       768    3.141557607911857   -0.000035045677936    0.008181139603937\n",
      "      1536    3.141583892148318   -0.000008761441475    0.004090604026235\n",
      "      3072    3.141590463228050   -0.000002190361743    0.002045306291164\n",
      "      6144    3.141592105999271   -0.000000547590522    0.001022653680338\n",
      "     12288    3.141592516692157   -0.000000136897636    0.000511326907014\n",
      "     24576    3.141592619365384   -0.000000034224410    0.000255663461862\n",
      "     49152    3.141592645033691   -0.000000008556103    0.000127831731976\n",
      "     98304    3.141592651450767   -0.000000002139026    0.000063915866118\n",
      "    196608    3.141592653055037   -0.000000000534757    0.000031957933076\n",
      "    393216    3.141592653456104   -0.000000000133689    0.000015978966540\n",
      "    786432    3.141592653556371   -0.000000000033423    0.000007989483270\n",
      "   1572864    3.141592653581437   -0.000000000008356    0.000003994741635\n",
      "   3145728    3.141592653587704   -0.000000000002089    0.000001997370818\n",
      "   6291456    3.141592653589271   -0.000000000000523    0.000000998685409\n",
      "  12582912    3.141592653589662   -0.000000000000131    0.000000499342704\n",
      "  25165824    3.141592653589760   -0.000000000000033    0.000000249671352\n",
      "  50331648    3.141592653589785   -0.000000000000008    0.000000124835676\n",
      " 100663296    3.141592653589791   -0.000000000000002    0.000000062417838\n",
      " 201326592    3.141592653589792   -0.000000000000001    0.000000031208919\n",
      " 402653184    3.141592653589793   -0.000000000000000    0.000000015604460\n",
      " 805306368    3.141592653589793   -0.000000000000000    0.000000007802230\n",
      "1610612736    3.141592653589793   -0.000000000000000    0.000000003901115\n",
      "3221225472    3.141592653589793   -0.000000000000000    0.000000001950557\n",
      "6442450944    3.141592653589793   -0.000000000000000    0.000000000975279\n",
      "12884901888    3.141592653589793   -0.000000000000000    0.000000000487639\n",
      "25769803776    3.141592653589793   -0.000000000000000    0.000000000243820\n",
      "51539607552    3.141592653589793   -0.000000000000000    0.000000000121910\n",
      "103079215104    3.141592653589793   -0.000000000000000    0.000000000060955\n"
     ]
    }
   ],
   "source": [
    "compute_pi_unstable_big()"
   ]
  },
  {
   "cell_type": "code",
   "execution_count": 7,
   "metadata": {
    "collapsed": false
   },
   "outputs": [
    {
     "data": {
      "text/plain": [
       "compute_pi_stable (generic function with 1 method)"
      ]
     },
     "execution_count": 7,
     "metadata": {},
     "output_type": "execute_result"
    }
   ],
   "source": [
    "function compute_pi_stable()\n",
    "    oldA=0.0; s=sqrt(3)/2; newA=3*s; n=6; #initialization\n",
    "    z=[newA n newA s];\n",
    "    while newA>oldA\n",
    "        oldA=newA;\n",
    "        s=s/sqrt(2*(1+sqrt((1+s)*(1-s))));\n",
    "        n=2*n; newA=n/2*s;\n",
    "        z=[z; newA-pi n newA s];\n",
    "    end\n",
    "    zrow, zcol=size(z);\n",
    "    for i=1:zrow\n",
    "        @printf(\"%10d %20.15f %20.15f %20.15f\\n\", z[i,2], z[i,3], z[i,1], z[i,4])\n",
    "    end\n",
    "end"
   ]
  },
  {
   "cell_type": "code",
   "execution_count": 8,
   "metadata": {
    "collapsed": false
   },
   "outputs": [
    {
     "name": "stdout",
     "output_type": "stream",
     "text": [
      "         6    2.598076211353316    2.598076211353316    0.866025403784439\n",
      "        12    3.000000000000000   -0.141592653589793    0.500000000000000\n",
      "        24    3.105828541230249   -0.035764112359544    0.258819045102521\n",
      "        48    3.132628613281238   -0.008964040308555    0.130526192220052\n",
      "        96    3.139350203046867   -0.002242450542926    0.065403129230143\n",
      "       192    3.141031950890509   -0.000560702699284    0.032719082821776\n",
      "       384    3.141452472285462   -0.000140181304332    0.016361731626487\n",
      "       768    3.141557607911857   -0.000035045677936    0.008181139603937\n",
      "      1536    3.141583892148318   -0.000008761441475    0.004090604026235\n",
      "      3072    3.141590463228050   -0.000002190361744    0.002045306291164\n",
      "      6144    3.141592105999271   -0.000000547590522    0.001022653680338\n",
      "     12288    3.141592516692156   -0.000000136897637    0.000511326907014\n",
      "     24576    3.141592619365383   -0.000000034224410    0.000255663461862\n",
      "     49152    3.141592645033690   -0.000000008556103    0.000127831731976\n",
      "     98304    3.141592651450766   -0.000000002139027    0.000063915866118\n",
      "    196608    3.141592653055036   -0.000000000534757    0.000031957933076\n",
      "    393216    3.141592653456104   -0.000000000133690    0.000015978966540\n",
      "    786432    3.141592653556371   -0.000000000033422    0.000007989483270\n",
      "   1572864    3.141592653581438   -0.000000000008355    0.000003994741635\n",
      "   3145728    3.141592653587705   -0.000000000002089    0.000001997370818\n",
      "   6291456    3.141592653589271   -0.000000000000522    0.000000998685409\n",
      "  12582912    3.141592653589663   -0.000000000000130    0.000000499342704\n",
      "  25165824    3.141592653589761   -0.000000000000032    0.000000249671352\n",
      "  50331648    3.141592653589786   -0.000000000000008    0.000000124835676\n",
      " 100663296    3.141592653589791   -0.000000000000002    0.000000062417838\n",
      " 201326592    3.141592653589794    0.000000000000000    0.000000031208919\n",
      " 402653184    3.141592653589794    0.000000000000001    0.000000015604460\n",
      " 805306368    3.141592653589794    0.000000000000001    0.000000007802230\n"
     ]
    }
   ],
   "source": [
    "compute_pi_stable()"
   ]
  },
  {
   "cell_type": "markdown",
   "metadata": {},
   "source": [
    "## Example: numerical differentiation"
   ]
  },
  {
   "cell_type": "code",
   "execution_count": 5,
   "metadata": {
    "collapsed": false
   },
   "outputs": [
    {
     "name": "stderr",
     "output_type": "stream",
     "text": [
      "WARNING: Compat.AsyncCondition is deprecated, use Base.AsyncCondition instead.\n",
      "  likely near In[5]:9\n",
      "\u001b[1m\u001b[33mWARNING: \u001b[39m\u001b[22m\u001b[33mis_linux is deprecated, use Sys.islinux instead.\u001b[39m\n",
      "Stacktrace:\n",
      " [1] \u001b[1mdepwarn\u001b[22m\u001b[22m at \u001b[1m./deprecated.jl:70\u001b[22m\u001b[22m [inlined]\n",
      " [2] \u001b[1mis_linux\u001b[22m\u001b[22m\u001b[1m(\u001b[22m\u001b[22m\u001b[1m)\u001b[22m\u001b[22m at \u001b[1m./deprecated.jl:31\u001b[22m\u001b[22m\n",
      " [3] \u001b[1mfind_backend\u001b[22m\u001b[22m\u001b[1m(\u001b[22m\u001b[22m::PyCall.PyObject\u001b[1m)\u001b[22m\u001b[22m at \u001b[1m/opt/julia_packages/.julia/v0.7/PyPlot/src/init.jl:52\u001b[22m\u001b[22m\n",
      " [4] \u001b[1m__init__\u001b[22m\u001b[22m\u001b[1m(\u001b[22m\u001b[22m\u001b[1m)\u001b[22m\u001b[22m at \u001b[1m/opt/julia_packages/.julia/v0.7/PyPlot/src/init.jl:179\u001b[22m\u001b[22m\n",
      " [5] \u001b[1m_include_from_serialized\u001b[22m\u001b[22m\u001b[1m(\u001b[22m\u001b[22m::String\u001b[1m)\u001b[22m\u001b[22m at \u001b[1m./loading.jl:149\u001b[22m\u001b[22m\n",
      " [6] \u001b[1m_require_from_serialized\u001b[22m\u001b[22m\u001b[1m(\u001b[22m\u001b[22m::Symbol, ::String\u001b[1m)\u001b[22m\u001b[22m at \u001b[1m./loading.jl:155\u001b[22m\u001b[22m\n",
      " [7] \u001b[1m_require_search_from_serialized\u001b[22m\u001b[22m\u001b[1m(\u001b[22m\u001b[22m::Symbol, ::String\u001b[1m)\u001b[22m\u001b[22m at \u001b[1m./loading.jl:175\u001b[22m\u001b[22m\n",
      " [8] \u001b[1m_require\u001b[22m\u001b[22m\u001b[1m(\u001b[22m\u001b[22m::Symbol\u001b[1m)\u001b[22m\u001b[22m at \u001b[1m./loading.jl:365\u001b[22m\u001b[22m\n",
      " [9] \u001b[1mrequire\u001b[22m\u001b[22m\u001b[1m(\u001b[22m\u001b[22m::Symbol\u001b[1m)\u001b[22m\u001b[22m at \u001b[1m./loading.jl:318\u001b[22m\u001b[22m\n",
      " [10] \u001b[1minclude_string\u001b[22m\u001b[22m\u001b[1m(\u001b[22m\u001b[22m::Module, ::String, ::String\u001b[1m)\u001b[22m\u001b[22m at \u001b[1m./loading.jl:431\u001b[22m\u001b[22m\n",
      " [11] \u001b[1mexecute_request\u001b[22m\u001b[22m\u001b[1m(\u001b[22m\u001b[22m::ZMQ.Socket, ::IJulia.Msg\u001b[1m)\u001b[22m\u001b[22m at \u001b[1m/opt/julia_packages/.julia/v0.7/IJulia/src/execute_request.jl:154\u001b[22m\u001b[22m\n",
      " [12] \u001b[1m(::Base.#inner#4{Array{Any,1},IJulia.#execute_request,Tuple{ZMQ.Socket,IJulia.Msg}})\u001b[22m\u001b[22m\u001b[1m(\u001b[22m\u001b[22m\u001b[1m)\u001b[22m\u001b[22m at \u001b[1m./essentials.jl:421\u001b[22m\u001b[22m\n",
      " [13] \u001b[1meventloop\u001b[22m\u001b[22m\u001b[1m(\u001b[22m\u001b[22m::ZMQ.Socket\u001b[1m)\u001b[22m\u001b[22m at \u001b[1m/opt/julia_packages/.julia/v0.7/IJulia/src/eventloop.jl:8\u001b[22m\u001b[22m\n",
      " [14] \u001b[1m(::IJulia.##14#17)\u001b[22m\u001b[22m\u001b[1m(\u001b[22m\u001b[22m\u001b[1m)\u001b[22m\u001b[22m at \u001b[1m./task.jl:335\u001b[22m\u001b[22m\n",
      "while loading In[5], in expression starting on line 9\n",
      "\u001b[1m\u001b[33mWARNING: \u001b[39m\u001b[22m\u001b[33mis_unix is deprecated, use Sys.isunix instead.\u001b[39m\n",
      "Stacktrace:\n",
      " [1] \u001b[1mdepwarn\u001b[22m\u001b[22m at \u001b[1m./deprecated.jl:70\u001b[22m\u001b[22m [inlined]\n",
      " [2] \u001b[1mis_unix\u001b[22m\u001b[22m\u001b[1m(\u001b[22m\u001b[22m\u001b[1m)\u001b[22m\u001b[22m at \u001b[1m./deprecated.jl:31\u001b[22m\u001b[22m\n",
      " [3] \u001b[1mfind_backend\u001b[22m\u001b[22m\u001b[1m(\u001b[22m\u001b[22m::PyCall.PyObject\u001b[1m)\u001b[22m\u001b[22m at \u001b[1m/opt/julia_packages/.julia/v0.7/PyPlot/src/init.jl:111\u001b[22m\u001b[22m\n",
      " [4] \u001b[1m__init__\u001b[22m\u001b[22m\u001b[1m(\u001b[22m\u001b[22m\u001b[1m)\u001b[22m\u001b[22m at \u001b[1m/opt/julia_packages/.julia/v0.7/PyPlot/src/init.jl:179\u001b[22m\u001b[22m\n",
      " [5] \u001b[1m_include_from_serialized\u001b[22m\u001b[22m\u001b[1m(\u001b[22m\u001b[22m::String\u001b[1m)\u001b[22m\u001b[22m at \u001b[1m./loading.jl:149\u001b[22m\u001b[22m\n",
      " [6] \u001b[1m_require_from_serialized\u001b[22m\u001b[22m\u001b[1m(\u001b[22m\u001b[22m::Symbol, ::String\u001b[1m)\u001b[22m\u001b[22m at \u001b[1m./loading.jl:155\u001b[22m\u001b[22m\n",
      " [7] \u001b[1m_require_search_from_serialized\u001b[22m\u001b[22m\u001b[1m(\u001b[22m\u001b[22m::Symbol, ::String\u001b[1m)\u001b[22m\u001b[22m at \u001b[1m./loading.jl:175\u001b[22m\u001b[22m\n",
      " [8] \u001b[1m_require\u001b[22m\u001b[22m\u001b[1m(\u001b[22m\u001b[22m::Symbol\u001b[1m)\u001b[22m\u001b[22m at \u001b[1m./loading.jl:365\u001b[22m\u001b[22m\n",
      " [9] \u001b[1mrequire\u001b[22m\u001b[22m\u001b[1m(\u001b[22m\u001b[22m::Symbol\u001b[1m)\u001b[22m\u001b[22m at \u001b[1m./loading.jl:318\u001b[22m\u001b[22m\n",
      " [10] \u001b[1minclude_string\u001b[22m\u001b[22m\u001b[1m(\u001b[22m\u001b[22m::Module, ::String, ::String\u001b[1m)\u001b[22m\u001b[22m at \u001b[1m./loading.jl:431\u001b[22m\u001b[22m\n",
      " [11] \u001b[1mexecute_request\u001b[22m\u001b[22m\u001b[1m(\u001b[22m\u001b[22m::ZMQ.Socket, ::IJulia.Msg\u001b[1m)\u001b[22m\u001b[22m at \u001b[1m/opt/julia_packages/.julia/v0.7/IJulia/src/execute_request.jl:154\u001b[22m\u001b[22m\n",
      " [12] \u001b[1m(::Base.#inner#4{Array{Any,1},IJulia.#execute_request,Tuple{ZMQ.Socket,IJulia.Msg}})\u001b[22m\u001b[22m\u001b[1m(\u001b[22m\u001b[22m\u001b[1m)\u001b[22m\u001b[22m at \u001b[1m./essentials.jl:421\u001b[22m\u001b[22m\n",
      " [13] \u001b[1meventloop\u001b[22m\u001b[22m\u001b[1m(\u001b[22m\u001b[22m::ZMQ.Socket\u001b[1m)\u001b[22m\u001b[22m at \u001b[1m/opt/julia_packages/.julia/v0.7/IJulia/src/eventloop.jl:8\u001b[22m\u001b[22m\n",
      " [14] \u001b[1m(::IJulia.##14#17)\u001b[22m\u001b[22m\u001b[1m(\u001b[22m\u001b[22m\u001b[1m)\u001b[22m\u001b[22m at \u001b[1m./task.jl:335\u001b[22m\u001b[22m\n",
      "while loading In[5], in expression starting on line 9\n"
     ]
    },
    {
     "data": {
      "image/png": "[encoded data removed]",
      "text/plain": [
       "PyPlot.Figure(PyObject <matplotlib.figure.Figure object at 0x7f2f0261f190>)"
      ]
     },
     "metadata": {},
     "output_type": "display_data"
    },
    {
     "name": "stderr",
     "output_type": "stream",
     "text": [
      "\u001b[1m\u001b[33mWARNING: \u001b[39m\u001b[22m\u001b[33mreadstring(s::IO) is deprecated, use read(s, String) instead.\u001b[39m\n",
      "Stacktrace:\n",
      " [1] \u001b[1mdepwarn\u001b[22m\u001b[22m at \u001b[1m./deprecated.jl:70\u001b[22m\u001b[22m [inlined]\n",
      " [2] \u001b[1mreadstring\u001b[22m\u001b[22m\u001b[1m(\u001b[22m\u001b[22m::IOStream\u001b[1m)\u001b[22m\u001b[22m at \u001b[1m./deprecated.jl:57\u001b[22m\u001b[22m\n",
      " [3] \u001b[1mnpyinitialize\u001b[22m\u001b[22m\u001b[1m(\u001b[22m\u001b[22m\u001b[1m)\u001b[22m\u001b[22m at \u001b[1m/opt/julia_packages/.julia/v0.7/PyCall/src/numpy.jl:77\u001b[22m\u001b[22m\n",
      " [4] \u001b[1mNpyArray\u001b[22m\u001b[22m\u001b[1m(\u001b[22m\u001b[22m::Array{Float64,1}, ::Bool\u001b[1m)\u001b[22m\u001b[22m at \u001b[1m/opt/julia_packages/.julia/v0.7/PyCall/src/numpy.jl:189\u001b[22m\u001b[22m\n",
      " [5] \u001b[1mPyCall.PyObject\u001b[22m\u001b[22m\u001b[1m(\u001b[22m\u001b[22m::Array{Float64,1}\u001b[1m)\u001b[22m\u001b[22m at \u001b[1m/opt/julia_packages/.julia/v0.7/PyCall/src/numpy.jl:204\u001b[22m\u001b[22m\n",
      " [6] \u001b[1mmap\u001b[22m\u001b[22m\u001b[1m(\u001b[22m\u001b[22m::Type{T} where T, ::Tuple{Array{Float64,1},Array{Float64,1}}\u001b[1m)\u001b[22m\u001b[22m at \u001b[1m./tuple.jl:139\u001b[22m\u001b[22m\n",
      " [7] \u001b[1m#_pycall#67\u001b[22m\u001b[22m\u001b[1m(\u001b[22m\u001b[22m::Array{Any,1}, ::Function, ::PyCall.PyObject, ::Array{Float64,1}, ::Vararg{Array{Float64,1},N} where N\u001b[1m)\u001b[22m\u001b[22m at \u001b[1m/opt/julia_packages/.julia/v0.7/PyCall/src/PyCall.jl:641\u001b[22m\u001b[22m\n",
      " [8] \u001b[1m_pycall\u001b[22m\u001b[22m\u001b[1m(\u001b[22m\u001b[22m::PyCall.PyObject, ::Array{Float64,1}, ::Vararg{Array{Float64,1},N} where N\u001b[1m)\u001b[22m\u001b[22m at \u001b[1m/opt/julia_packages/.julia/v0.7/PyCall/src/PyCall.jl:641\u001b[22m\u001b[22m\n",
      " [9] \u001b[1m#pycall#71\u001b[22m\u001b[22m\u001b[1m(\u001b[22m\u001b[22m::Array{Any,1}, ::Function, ::PyCall.PyObject, ::Type{PyCall.PyAny}, ::Array{Float64,1}, ::Vararg{Array{Float64,1},N} where N\u001b[1m)\u001b[22m\u001b[22m at \u001b[1m/opt/julia_packages/.julia/v0.7/PyCall/src/PyCall.jl:675\u001b[22m\u001b[22m\n",
      " [10] \u001b[1mpycall\u001b[22m\u001b[22m\u001b[1m(\u001b[22m\u001b[22m::PyCall.PyObject, ::Type{PyCall.PyAny}, ::Array{Float64,1}, ::Vararg{Array{Float64,1},N} where N\u001b[1m)\u001b[22m\u001b[22m at \u001b[1m/opt/julia_packages/.julia/v0.7/PyCall/src/PyCall.jl:675\u001b[22m\u001b[22m\n",
      " [11] \u001b[1m#plot#85\u001b[22m\u001b[22m\u001b[1m(\u001b[22m\u001b[22m::Array{Any,1}, ::Function, ::Array{Float64,1}, ::Vararg{Array{Float64,1},N} where N\u001b[1m)\u001b[22m\u001b[22m at \u001b[1m/opt/julia_packages/.julia/v0.7/PyPlot/src/PyPlot.jl:172\u001b[22m\u001b[22m\n",
      " [12] \u001b[1mplot\u001b[22m\u001b[22m\u001b[1m(\u001b[22m\u001b[22m::Array{Float64,1}, ::Vararg{Array{Float64,1},N} where N\u001b[1m)\u001b[22m\u001b[22m at \u001b[1m/opt/julia_packages/.julia/v0.7/PyPlot/src/PyPlot.jl:169\u001b[22m\u001b[22m\n",
      " [13] \u001b[1minclude_string\u001b[22m\u001b[22m\u001b[1m(\u001b[22m\u001b[22m::Module, ::String, ::String\u001b[1m)\u001b[22m\u001b[22m at \u001b[1m./loading.jl:431\u001b[22m\u001b[22m\n",
      " [14] \u001b[1mexecute_request\u001b[22m\u001b[22m\u001b[1m(\u001b[22m\u001b[22m::ZMQ.Socket, ::IJulia.Msg\u001b[1m)\u001b[22m\u001b[22m at \u001b[1m/opt/julia_packages/.julia/v0.7/IJulia/src/execute_request.jl:154\u001b[22m\u001b[22m\n",
      " [15] \u001b[1m(::Base.#inner#4{Array{Any,1},IJulia.#execute_request,Tuple{ZMQ.Socket,IJulia.Msg}})\u001b[22m\u001b[22m\u001b[1m(\u001b[22m\u001b[22m\u001b[1m)\u001b[22m\u001b[22m at \u001b[1m./essentials.jl:421\u001b[22m\u001b[22m\n",
      " [16] \u001b[1meventloop\u001b[22m\u001b[22m\u001b[1m(\u001b[22m\u001b[22m::ZMQ.Socket\u001b[1m)\u001b[22m\u001b[22m at \u001b[1m/opt/julia_packages/.julia/v0.7/IJulia/src/eventloop.jl:8\u001b[22m\u001b[22m\n",
      " [17] \u001b[1m(::IJulia.##14#17)\u001b[22m\u001b[22m\u001b[1m(\u001b[22m\u001b[22m\u001b[1m)\u001b[22m\u001b[22m at \u001b[1m./task.jl:335\u001b[22m\u001b[22m\n",
      "while loading In[5], in expression starting on line 10\n"
     ]
    }
   ],
   "source": [
    "x0=1.0;\n",
    "a=-15:1:0\n",
    "h=10.0.^a;\n",
    "f(x)=exp.(x);\n",
    "\n",
    "df=(f(x0+h)-f(x0))./h;\n",
    "error=abs.(df-exp(x0));\n",
    "\n",
    "using PyPlot\n",
    "plot(h,error)\n",
    "xscale(\"log\")\n",
    "yscale(\"log\")"
   ]
  },
  {
   "cell_type": "code",
   "execution_count": null,
   "metadata": {
    "collapsed": true
   },
   "outputs": [],
   "source": []
  }
 ],
 "metadata": {
  "kernelspec": {
   "display_name": "Julia 0.7.0-DEV",
   "language": "julia",
   "name": "julia-0.7"
  },
  "language_info": {
   "file_extension": ".jl",
   "mimetype": "application/julia",
   "name": "julia",
   "version": "0.7.0"
  }
 },
 "nbformat": 4,
 "nbformat_minor": 2
}
