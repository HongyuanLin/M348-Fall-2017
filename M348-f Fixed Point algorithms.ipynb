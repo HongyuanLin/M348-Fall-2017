{
 "cells": [
  {
   "cell_type": "markdown",
   "metadata": {},
   "source": [
    "## Bisection method\n",
    "\n",
    "* This is an important concept: One wish to **\"sandwich\"** the value that one wishes to compute."
   ]
  },
  {
   "cell_type": "code",
   "execution_count": 2,
   "metadata": {
    "collapsed": false
   },
   "outputs": [
    {
     "data": {
      "text/plain": [
       "bisection"
      ]
     },
     "execution_count": 2,
     "metadata": {},
     "output_type": "execute_result"
    }
   ],
   "source": [
    "\"Find the root of a monotone function f(x) in [a,b]\"\n",
    "function bisection(f::Function, a::Float64, b::Float64; tol=1e-12)\n",
    "    \n",
    "    fa=f(a)\n",
    "    v=1.0\n",
    "\n",
    "    if fa>0.0\n",
    "        v=-1.0\n",
    "    end\n",
    "\n",
    "    if fa*f(b)>0\n",
    "        println(\"Error: f(a) and f(b) have the same sign\")\n",
    "        #need to close the program if this occurs\n",
    "    end\n",
    "\n",
    "    x=(a+b)/2.0; ##The mid-point of the interval [a,b]\n",
    "\n",
    "    while(b-a>tol) & ((a<x) &(x<b))\n",
    "        if v*f(x)>0\n",
    "            b=x;\n",
    "        else\n",
    "            a=x;\n",
    "        end\n",
    "        x=(a+b)/2;\n",
    "    end\n",
    "\n",
    "    return x\n",
    "end \n"
   ]
  },
  {
   "cell_type": "code",
   "execution_count": 3,
   "metadata": {
    "collapsed": false
   },
   "outputs": [
    {
     "name": "stdout",
     "output_type": "stream",
     "text": [
      "  0.020130 seconds (6.13 k allocations: 300.892 KB)\n",
      "  0.000009 seconds (8 allocations: 224 bytes)\n",
      "  0.000009 seconds (8 allocations: 224 bytes)\n",
      "x =   -0.567143290409604\n",
      "f(x) = "
     ]
    },
    {
     "name": "stderr",
     "output_type": "stream",
     "text": [
      "WARNING: Method definition f(Any) in module Main at In[1]:2 overwritten at In[3]:2.\n"
     ]
    },
    {
     "name": "stdout",
     "output_type": "stream",
     "text": [
      "2.934407374646398e-13\n",
      "\n"
     ]
    }
   ],
   "source": [
    "# define f(x)\n",
    "f(x)=x+exp(x);\n",
    "\n",
    "# define [a,b] and tol\n",
    "a=-1.0; b=0.0;\n",
    "tol=0;\n",
    "\n",
    "@time x=bisection(f,a,b)\n",
    "@time x=bisection(f,a,b)\n",
    "@time x=bisection(f,a,b)\n",
    "\n",
    "\n",
    "@printf(\"x = %20.15f\\n\", x)\n",
    "@printf(\"f(x) = %20.15e\\n\\n\", f(x))\n"
   ]
  },
  {
   "cell_type": "markdown",
   "metadata": {},
   "source": [
    "# Fixed point iterations\n",
    "\n",
    "Find the root of \n",
    "$$f(x)=xe^x-1 =0$$\n",
    "by fixed point iterations.\n",
    "\n",
    "* Need to come up with $g(x)$ such that \n",
    "$$ f(x^*)=0 \\iff x^* = g(x^*) $$\n",
    "\n",
    "* Introduce the fixed point iteration for $g$: $$ x_{k+1} := g(x_k).$$\n",
    "\n",
    "**What should $g(x)$ be?** \n",
    "So that $x_k\\longrightarrow x^*$\n",
    "\n",
    "The following examples come from Gander-Gander-Kwok."
   ]
  },
  {
   "cell_type": "markdown",
   "metadata": {},
   "source": [
    "### Ex1: divide by $e^x$\n",
    "\n",
    "$$ x=e^{-x} \\implies x_{k+1}:= e^{-x_k} $$\n",
    "\n",
    "* This fixed point iteration has a **first order** convergence rate\n",
    "    * Oberve in the following computation that: **The number of correct digits grows linearly in k**"
   ]
  },
  {
   "cell_type": "code",
   "execution_count": 6,
   "metadata": {
    "collapsed": false
   },
   "outputs": [
    {
     "name": "stdout",
     "output_type": "stream",
     "text": [
      "Try a few different initial guesses and observe if the iterations will converge to the same number.\n",
      "\n",
      "\n",
      "Iterating using initial guess\n",
      "\n",
      "x[1]=-1.5\n",
      "\n",
      "x[2]=4.4816890703,\t difference = 5.9816890703\n",
      "x[3]=0.0113142864,\t difference = 4.470374784\n",
      "x[4]=0.9887494794,\t difference = 0.9774351931\n",
      "x[5]=0.372041646,\t difference = 0.6167078335\n",
      "x[6]=0.6893255343,\t difference = 0.3172838883\n",
      "x[7]=0.501914479,\t difference = 0.1874110553\n",
      "x[8]=0.6053705803,\t difference = 0.1034561013\n",
      "x[9]=0.5458720997,\t difference = 0.0594984806\n",
      "x[10]=0.5793363239,\t difference = 0.0334642242\n",
      "x[11]=0.560270081,\t difference = 0.0190662429\n",
      "x[12]=0.5710548119,\t difference = 0.0107847309\n",
      "x[13]=0.5649292302,\t difference = 0.0061255817\n",
      "x[14]=0.5684003709,\t difference = 0.0034711407\n",
      "x[15]=0.5664307936,\t difference = 0.0019695773\n",
      "x[16]=0.5675475222,\t difference = 0.0011167286\n",
      "x[17]=0.5669140794,\t difference = 0.0006334428\n",
      "x[18]=0.5672733008,\t difference = 0.0003592214\n",
      "x[19]=0.5670695607,\t difference = 0.0002037401\n",
      "x[20]=0.5671851073,\t difference = 0.0001155466\n",
      "x[21]=0.5671195748,\t difference = 6.55325e-5\n",
      "x[22]=0.5671567407,\t difference = 3.7166e-5\n",
      "x[23]=0.5671356622,\t difference = 2.10786e-5\n",
      "x[24]=0.5671476167,\t difference = 1.19545e-5\n",
      "x[25]=0.5671408368,\t difference = 6.7799e-6\n",
      "x[26]=0.567144682,\t difference = 3.8452e-6\n",
      "x[27]=0.5671425012,\t difference = 2.1808e-6\n",
      "x[28]=0.567143738,\t difference = 1.2368e-6\n",
      "x[29]=0.5671430366,\t difference = 7.015e-7\n",
      "x[30]=0.5671434344,\t difference = 3.978e-7\n",
      "x[31]=0.5671432088,\t difference = 2.256e-7\n",
      "x[32]=0.5671433367,\t difference = 1.28e-7\n",
      "x[33]=0.5671432641,\t difference = 7.26e-8\n",
      "x[34]=0.5671433053,\t difference = 4.12e-8\n",
      "x[35]=0.567143282,\t difference = 2.33e-8\n",
      "x[36]=0.5671432952,\t difference = 1.32e-8\n",
      "x[37]=0.5671432877,\t difference = 7.5e-9\n",
      "x[38]=0.567143292,\t difference = 4.3e-9\n",
      "x[39]=0.5671432895,\t difference = 2.4e-9\n",
      "x[40]=0.5671432909,\t difference = 1.4e-9\n",
      "x[41]=0.5671432901,\t difference = 8.0e-10\n",
      "x[42]=0.5671432906,\t difference = 4.0e-10\n",
      "x[43]=0.5671432903,\t difference = 2.0e-10\n",
      "x[44]=0.5671432905,\t difference = 1.0e-10\n",
      "x[45]=0.5671432904,\t difference = 1.0e-10\n",
      "x[46]=0.5671432904,\t difference = 0.0\n",
      "x[47]=0.5671432904,\t difference = 0.0\n",
      "x[48]=0.5671432904,\t difference = 0.0\n",
      "x[49]=0.5671432904,\t difference = 0.0\n",
      "x[50]=0.5671432904,\t difference = 0.0\n",
      "\n",
      "Iterating using a different initial guess.\n",
      "\n",
      "x[1]=-100.5\n",
      "\n",
      "x[2]=4.431955909845895e43,\t difference = 4.431955909845895e43\n",
      "x[3]=0.0,\t difference = 4.431955909845895e43\n",
      "x[4]=1.0,\t difference = 1.0\n",
      "x[5]=0.36787944117144233,\t difference = 0.6321205588\n",
      "x[6]=0.6922006275553463,\t difference = 0.3243211864\n",
      "x[7]=0.5004735005636369,\t difference = 0.191727127\n",
      "x[8]=0.6062435350855973,\t difference = 0.1057700345\n",
      "x[9]=0.545395785975027,\t difference = 0.0608477491\n",
      "x[10]=0.5796123355033789,\t difference = 0.0342165495\n",
      "x[11]=0.5601154613610891,\t difference = 0.0194968741\n",
      "x[12]=0.571143115080177,\t difference = 0.0110276537\n",
      "x[13]=0.5648793473910495,\t difference = 0.0062637677\n",
      "x[14]=0.5684287250290607,\t difference = 0.0035493776\n",
      "x[15]=0.5664147331468833,\t difference = 0.0020139919\n",
      "x[16]=0.5675566373282834,\t difference = 0.0011419042\n",
      "x[17]=0.5669089119214953,\t difference = 0.0006477254\n",
      "x[18]=0.5672762321755696,\t difference = 0.0003673203\n",
      "x[19]=0.5670678983907884,\t difference = 0.0002083338\n",
      "x[20]=0.567186050099357,\t difference = 0.0001181517\n",
      "x[21]=0.5671190400572149,\t difference = 6.701e-5\n",
      "x[22]=0.5671570440012975,\t difference = 3.80039e-5\n",
      "x[23]=0.5671354902062784,\t difference = 2.15538e-5\n",
      "x[24]=0.5671477142601192,\t difference = 1.22241e-5\n",
      "x[25]=0.567140781458298,\t difference = 6.9328e-6\n",
      "x[26]=0.56714471334657,\t difference = 3.9319e-6\n",
      "x[27]=0.5671424834013071,\t difference = 2.2299e-6\n",
      "x[28]=0.5671437480994115,\t difference = 1.2647e-6\n",
      "x[29]=0.5671430308342419,\t difference = 7.173e-7\n",
      "x[30]=0.56714343762633,\t difference = 4.068e-7\n",
      "x[31]=0.5671432069169137,\t difference = 2.307e-7\n",
      "x[32]=0.567143337762207,\t difference = 1.308e-7\n",
      "x[33]=0.5671432635541754,\t difference = 7.42e-8\n",
      "x[34]=0.5671433056407622,\t difference = 4.21e-8\n",
      "x[35]=0.5671432817716368,\t difference = 2.39e-8\n",
      "x[36]=0.5671432953088511,\t difference = 1.35e-8\n",
      "x[37]=0.5671432876313107,\t difference = 7.7e-9\n",
      "x[38]=0.5671432919855763,\t difference = 4.4e-9\n",
      "x[39]=0.5671432895160837,\t difference = 2.5e-9\n",
      "x[40]=0.56714329091664,\t difference = 1.4e-9\n",
      "x[41]=0.5671432901223239,\t difference = 8.0e-10\n",
      "x[42]=0.5671432905728149,\t difference = 5.0e-10\n",
      "x[43]=0.5671432903173219,\t difference = 3.0e-10\n",
      "x[44]=0.5671432904622231,\t difference = 1.0e-10\n",
      "x[45]=0.5671432903800433,\t difference = 1.0e-10\n",
      "x[46]=0.567143290426651,\t difference = 0.0\n",
      "x[47]=0.5671432904002178,\t difference = 0.0\n",
      "x[48]=0.5671432904152092,\t difference = 0.0\n",
      "x[49]=0.567143290406707,\t difference = 0.0\n",
      "x[50]=0.5671432904115289,\t difference = 0.0\n"
     ]
    }
   ],
   "source": [
    "println(\"Try a few different initial guesses and observe if the iterations will converge to the same number.\\n\")\n",
    "\n",
    "x=zeros(50)\n",
    "x[1]=-1.5\n",
    "\n",
    "println(\"\\nIterating using initial guess\\n\\nx[1]=\", x[1], \"\\n\")\n",
    "\n",
    "for k=1:length(x)-1\n",
    "    x[k+1]=exp(-x[k]) \n",
    "    \n",
    "    println(\"x[\",k+1,\"]=\", round(x[k+1], 10) , \",\\t difference = \", round(abs(x[k+1]-x[k]),10))\n",
    "end\n",
    "\n",
    "\n",
    "x[1]=-100.5\n",
    "println(\"\\nIterating using a different initial guess.\\n\\nx[1]=\", x[1], \"\\n\")\n",
    "for k=1:length(x)-1\n",
    "    x[k+1]=exp(-x[k]) \n",
    "    \n",
    "    println(\"x[\",k+1,\"]=\", round(x[k+1], 50) , \",\\t difference = \", round(abs(x[k+1]-x[k]),10))    \n",
    "end"
   ]
  },
  {
   "cell_type": "markdown",
   "metadata": {},
   "source": [
    "### Ex2: add $x$ to the equation $xe^x-1=0$\n",
    "\n",
    "$$ x+xe^{x}=1+x \\implies x(1+e^x) = 1+x $$\n",
    "Define the iterations:\n",
    "$$x_{k+1}(1+e^{x_k}) = 1+x_k $$\n",
    "or more conveniently: \n",
    "$$x_{k+1}:= \\frac{1+x_k}{1+e^{x_k}} $$\n",
    "\n",
    "* This fixed point iteration scheme has **second order** convergence rate: $$e_{k+1} \\le C e_k^2 $$\n",
    "    * **The number of correct digits doubles in each iteration** (if $e_0$ is sufficiently small\n",
    "    *  Oberve non-convergence resulting from using a bad initial condition: **initial error is very important**"
   ]
  },
  {
   "cell_type": "code",
   "execution_count": 4,
   "metadata": {
    "collapsed": false
   },
   "outputs": [
    {
     "name": "stdout",
     "output_type": "stream",
     "text": [
      "\n",
      "Iterating using initial guess\n",
      "\n",
      "x[1]=1.567\n",
      "\n",
      "x[2]=0.4431783958,\t difference = 1.1238216042\n",
      "x[3]=0.564259492,\t difference = 0.1210810962\n",
      "x[4]=0.5671417843,\t difference = 0.0028822922\n",
      "x[5]=0.5671432904,\t difference = 1.5061e-6\n",
      "x[6]=0.5671432904,\t difference = 0.0\n",
      "x[7]=0.5671432904,\t difference = 0.0\n",
      "x[8]=0.5671432904,\t difference = 0.0\n",
      "x[9]=0.5671432904,\t difference = 0.0\n",
      "x[10]=0.5671432904,\t difference = 0.0\n",
      "\n",
      "Iterating using initial guess\n",
      "\n",
      "x[1]=-100.5\n",
      "\n",
      "x[2]=-99.5,\t difference = 1.0\n",
      "x[3]=-98.5,\t difference = 1.0\n",
      "x[4]=-97.5,\t difference = 1.0\n",
      "x[5]=-96.5,\t difference = 1.0\n",
      "x[6]=-95.5,\t difference = 1.0\n",
      "x[7]=-94.5,\t difference = 1.0\n",
      "x[8]=-93.5,\t difference = 1.0\n",
      "x[9]=-92.5,\t difference = 1.0\n",
      "x[10]=-91.5,\t difference = 1.0\n"
     ]
    }
   ],
   "source": [
    "x=zeros(10)\n",
    "\n",
    "x[1]=1.567 #Initial condition that leads to very fast convergence\n",
    "\n",
    "println(\"\\nIterating using initial guess\\n\\nx[1]=\", x[1], \"\\n\")\n",
    "\n",
    "\n",
    "for k=1:length(x)-1\n",
    "    x[k+1]= (1.0+x[k])/(1.0+exp(x[k]))\n",
    "    println(\"x[\",k+1,\"]=\", round(x[k+1], 10) , \",\\t difference = \", round(abs(x[k+1]-x[k]),10))    \n",
    "\n",
    "end\n",
    "\n",
    "\n",
    "x[1]=-100.5 #initial conditionthat leads to divergent iterations\n",
    "println(\"\\nIterating using initial guess\\n\\nx[1]=\", x[1], \"\\n\")\n",
    "\n",
    "for k=1:length(x)-1\n",
    "    x[k+1]= (1.0+x[k])/(1.0+exp(x[k]))\n",
    "    println(\"x[\",k+1,\"]=\", round(x[k+1], 10) , \",\\t difference = \", round(abs(x[k+1]-x[k]),10))    \n",
    "\n",
    "end"
   ]
  },
  {
   "cell_type": "markdown",
   "metadata": {},
   "source": [
    "### ex3: add $x$ to the equation $xe^x-1=0$\n",
    "\n",
    "$$ x+xe^{x}=1+x \\implies x=1+x-xe^x=:g(x)$$\n",
    "Define the iterations:\n",
    "$$x_{k+1} = 1+x_k - x_k e^{x_k} $$"
   ]
  },
  {
   "cell_type": "code",
   "execution_count": 7,
   "metadata": {
    "collapsed": false
   },
   "outputs": [
    {
     "name": "stdout",
     "output_type": "stream",
     "text": [
      "x[2]=-4.2225336055,\t difference = 5.7225336055\n",
      "x[3]=-3.1606251356,\t difference = 1.0619084699\n",
      "x[4]=-2.0266170714,\t difference = 1.1340080643\n",
      "x[5]=-0.7595483141,\t difference = 1.2670687573\n",
      "x[6]=0.5958274141,\t difference = 1.3553757282\n",
      "x[7]=0.5146796876,\t difference = 0.0811477264\n",
      "x[8]=0.6535678153,\t difference = 0.1388881276\n",
      "x[9]=0.3971573272,\t difference = 0.2564104881\n",
      "x[10]=0.8063500787,\t difference = 0.4091927515\n",
      "x[11]=0.000353088,\t difference = 0.8059969907\n",
      "x[12]=0.9999998753,\t difference = 0.9996467873\n",
      "x[13]=-0.7182812753,\t difference = 1.7182811506\n",
      "x[14]=0.6319451818,\t difference = 1.350226457\n",
      "x[15]=0.4430879272,\t difference = 0.1888572546\n",
      "x[16]=0.7529743706,\t difference = 0.3098864434\n",
      "x[17]=0.1541792715,\t difference = 0.5987950992\n",
      "x[18]=0.9742983117,\t difference = 0.8201190403\n",
      "x[19]=-0.6069175816,\t difference = 1.5812158933\n",
      "x[20]=0.7238696687,\t difference = 1.3307872503\n"
     ]
    }
   ],
   "source": [
    "x=zeros(20)\n",
    "x[1]=1.5\n",
    "\n",
    "for k=1:length(x)-1\n",
    "    x[k+1]=1.0+x[k]-x[k]*exp(x[k]) \n",
    "    println(\"x[\",k+1,\"]=\", round(x[k+1], 10) , \",\\t difference = \", round(abs(x[k+1]-x[k]),10))    \n",
    "\n",
    "end\n"
   ]
  },
  {
   "cell_type": "markdown",
   "metadata": {},
   "source": [
    "### A more organized way to study the iterations\n",
    "\n",
    "* Write a general function implementing teh fixed point interation\n",
    "* pass in different $g$ and $x_0$ to this function "
   ]
  },
  {
   "cell_type": "code",
   "execution_count": 4,
   "metadata": {
    "collapsed": false
   },
   "outputs": [
    {
     "data": {
      "text/plain": [
       "FixedPointItrs! (generic function with 1 method)"
      ]
     },
     "execution_count": 4,
     "metadata": {},
     "output_type": "execute_result"
    }
   ],
   "source": [
    "#x is a vector to store teh approximations computed along the iterations\n",
    "#function assumes that x[1] is the assigned initial guess\n",
    "function FixedPointItrs!(x::Array{Float64,1}, g)\n",
    "    for k=1:length(x)-1\n",
    "        x[k+1]=g(x[k])\n",
    "    end\n",
    "end"
   ]
  },
  {
   "cell_type": "code",
   "execution_count": 5,
   "metadata": {
    "collapsed": false
   },
   "outputs": [
    {
     "name": "stdout",
     "output_type": "stream",
     "text": [
      "\n",
      "Compare different fixed-point iterations (different g's) for solving the same equation.\n",
      "\n",
      "\n",
      "Sequence generated by g=g1\n",
      "[1.5 0.22313 0.800011 0.449324 0.638059 0.528317 0.589597 0.554551 0.57433 0.563082 0.569451 0.565836]\n",
      "\n",
      "Sequence generated by g=g2\n",
      "[1.5 0.456064 0.564836 0.567142 0.567143 0.567143 0.567143 0.567143 0.567143 0.567143 0.567143 0.567143]\n",
      "\n",
      "Sequence generated by g=g3\n",
      "[1.5 -4.22253 -3.16063 -2.02662 -0.759548 0.595827 0.51468 0.653568 0.397157 0.80635 0.000353 1.0]\n"
     ]
    }
   ],
   "source": [
    "x=zeros(12)\n",
    "x[1]=1.5\n",
    "\n",
    "g1(y)=exp(-y)\n",
    "g2(y)=(1.0+y)/(1.0+exp(y))\n",
    "g3(y)=1.0+y-y*exp(y)\n",
    "\n",
    "println(\"\\nCompare different fixed-point iterations (different g's) for solving the same equation.\\n\")\n",
    "\n",
    "FixedPointItrs!(x, g1)\n",
    "\n",
    "y=copy(x)\n",
    "FixedPointItrs!(y, g2)\n",
    "\n",
    "z=copy(x)\n",
    "FixedPointItrs!(z, g3)\n",
    "\n",
    "println(\"\\nSequence generated by g=\", g1)\n",
    "println(round(x',6))\n",
    "println(\"\\nSequence generated by g=\", g2)\n",
    "println(round(y',6))\n",
    "println(\"\\nSequence generated by g=\", g3)\n",
    "println(round(z',6))\n",
    "\n"
   ]
  },
  {
   "cell_type": "markdown",
   "metadata": {},
   "source": [
    "## Two fixed point iterations to solve linear systems of equations\n",
    "\n",
    "* Jacobi iterations\n",
    "* Gauss-Seidel iterations\n",
    "\n",
    "Let the linear system of equations be \n",
    "$$ Ax =b, $$\n",
    "where $A$ is an $N\\times n$ invertible matrix, and $x,b$ are two vectors in $\\mathbb{R}^n$.\n",
    "\n",
    "\n",
    "A general strategy in coming up with fixed point iterations is to *split* $A$ into the sum of two matrices, separate the equations accordingly by the equal sign\n",
    "$$\n",
    "A=M+N \\implies Ax=b \\iff Mx=-Nx+b\n",
    "$$\n",
    "and define the iterations\n",
    "$$\n",
    "Mx_{k+1} = -Nx_{k} +b.\n",
    "$$\n",
    "\n",
    "**Of course, $M$ has to be very simple and easy to invert.**\n",
    "\n",
    "**Both iterative schemes can be used to solve *nonlinear* equations**\n"
   ]
  },
  {
   "cell_type": "markdown",
   "metadata": {},
   "source": [
    "### Jacobi iterations\n",
    "\n",
    "In the Jacobi iterations, $M$ is the diagonal of $A$ (and $N$ is $A$ with its diagonal culled out).\n",
    "\n",
    "* Very easy parallelization\n",
    "\n",
    "\n",
    "$$ \n",
    "a_{11} \\mathbf{x_1^{(k+1)}} + a_{12} x_2^{(k)}+a_{13} x_3^{(k)}+...+a_{1n} x_n^{(k)}=b_1 \n",
    "$$\n",
    "\n",
    "$$ \n",
    "a_{21} x_1^{(k)} + a_{22} \\mathbf{x_2^{(k+1)}}+a_{13} x_3^{(k)}+...+a_{1n} x_n^{(k)}=b_2 \n",
    "$$"
   ]
  },
  {
   "cell_type": "code",
   "execution_count": 20,
   "metadata": {
    "collapsed": false
   },
   "outputs": [
    {
     "name": "stdout",
     "output_type": "stream",
     "text": [
      "[-0.201197,-0.479297,-0.205999]\n",
      "[0.257659,0.202719,0.328566]\n",
      "[-0.0391135,-0.133469,-0.127651]\n",
      "[0.164989,0.128157,0.123239]\n",
      "[0.0373968,-0.0266261,-0.0621148]\n",
      "[0.12396,0.0815401,0.0500648]\n",
      "[0.0686725,0.0135848,-0.0273704]\n",
      "[0.105494,0.0593022,0.0216112]\n",
      "[0.0816562,0.0298904,-0.011204]\n",
      "[0.0973831,0.0493733,0.00996229]\n",
      "[0.0871367,0.0367129,-0.00403517]\n",
      "[0.093868,0.0450443,0.00507053]\n",
      "[0.08947,0.039607,-0.000917375]\n",
      "[0.0923538,0.043175,0.00299232]\n",
      "[0.0904673,0.0408421,0.000427562]\n",
      "[0.0917033,0.042371,0.00210486]\n",
      "[0.0908943,0.0413705,0.00100571]\n",
      "[0.0914242,0.0420259,0.00172503]\n",
      "[0.0910773,0.0415969,0.00125387]\n",
      "[0.0913045,0.0418778,0.00156231]\n",
      "[0.0911557,0.0416939,0.00136032]\n",
      "[0.0912531,0.0418143,0.00149256]\n",
      "[0.0911894,0.0417355,0.00140597]\n",
      "[0.0912311,0.0417871,0.00146267]\n",
      "[0.0912038,0.0417533,0.00142554]\n",
      "\n",
      "Checking the residual: [-0.000179008,-0.000332115,-0.00046188]\n"
     ]
    }
   ],
   "source": [
    "#Example: Jacobi iterations\n",
    "\n",
    "A=[10. 2. 3.; 4. 15. 6.; 7. 8. 19.]\n",
    "\n",
    "#What happens if the diagonal elements are smaller, but A is still invertible?\n",
    "# A=[1. 2. 3.; 4. 5. 6.; 7. 8. 19.]\n",
    "\n",
    "\n",
    "M=zeros(3,3)\n",
    "\n",
    "M=diagm( diag(A),0)\n",
    "\n",
    "N=A-M\n",
    "\n",
    "Minv = inv(M)\n",
    "\n",
    "b=ones(3)\n",
    "x=rand(3)\n",
    "\n",
    "#the following for-loop is only for illustrating teh concept of Jacobi iteration\n",
    "#in practice, one should never allocate memory for M or Minv\n",
    "for k=1:25\n",
    "   x = Minv*(-N*x+b) \n",
    "   println(x)\n",
    "end\n",
    "\n",
    "println(\"\\nChecking the residual: \", A*x-b)"
   ]
  },
  {
   "cell_type": "code",
   "execution_count": 21,
   "metadata": {
    "collapsed": false
   },
   "outputs": [
    {
     "name": "stdout",
     "output_type": "stream",
     "text": [
      "1: [-0.15236,-0.274076,-0.593638]\n",
      "2: [0.332907,0.344751,0.224165]\n",
      "3: [-0.0361997,-0.111774,-0.215177]\n",
      "4: [0.186908,0.162391,0.113031]\n",
      "5: [0.0336125,-0.0283879,-0.0846042]\n",
      "6: [0.131059,0.091545,0.0522008]\n",
      "7: [0.0660308,0.0108373,-0.0341985]\n",
      "8: [0.108092,0.0627379,0.0237414]\n",
      "9: [0.08033,0.0283456,-0.0136078]\n",
      "10: [0.0984132,0.0506884,0.0111013]\n",
      "11: [0.0865319,0.0359826,-0.00496842]\n",
      "12: [0.094294,0.0455789,0.00560083]\n",
      "13: [0.089204,0.0392813,-0.00129942]\n",
      "14: [0.0925336,0.0433987,0.00322747]\n",
      "15: [0.090352,0.0407001,0.000267124]\n",
      "16: [0.0917799,0.0424659,0.00220713]\n",
      "17: [0.0908447,0.0413092,0.000937551]\n",
      "18: [0.0914569,0.0420664,0.00176915]\n",
      "19: [0.091056,0.0415705,0.00122476]\n",
      "20: [0.0913185,0.0418952,0.00158127]\n",
      "21: [0.0911466,0.0416826,0.00134786]\n",
      "22: [0.0912591,0.0418218,0.0015007]\n",
      "23: [0.0911854,0.0417306,0.00140063]\n",
      "24: [0.0912337,0.0417903,0.00146616]\n",
      "25: [0.0912021,0.0417512,0.00142325]\n",
      "[0.0912021,0.0417512,0.00142325]\n",
      "[-0.000206874,-0.000383813,-0.00053379]\n"
     ]
    },
    {
     "name": "stderr",
     "output_type": "stream",
     "text": [
      "WARNING: Method definition JacobiIterations!(Any, Any, Any, Any) in module Main at In[14]:4 overwritten at In[21]:4.\n"
     ]
    }
   ],
   "source": [
    "#a more appropirate way to implementing the JAcobi iterations\n",
    "function JacobiIterations!(x, A, b, numitrs)\n",
    "   \n",
    "   xnext=copy(x)\n",
    "   sum=0.0\n",
    "    \n",
    "   for itr=1:numitrs \n",
    "   for i=1:size(A,1)\n",
    "        sum=0.0\n",
    "        for j in [1:i-1; i+1:3]\n",
    "            sum+=A[i,j]*x[j]\n",
    "        end\n",
    "        xnext[i] = (b[i]-sum)/A[i,i]\n",
    "   end\n",
    "    \n",
    "   x.=xnext\n",
    "   println(itr,\": \", x)\n",
    "   end \n",
    "end\n",
    "\n",
    "x=rand(3)\n",
    "\n",
    "JacobiIterations!(x, A, b, 25)\n",
    "\n",
    "println(x)\n",
    "println(A*x-b)"
   ]
  },
  {
   "cell_type": "markdown",
   "metadata": {},
   "source": [
    "### Gauss-Seidel iterations\n",
    "\n",
    "In the Gauss-Seidel iterations, $M$ is the lower triangular part of $A$ (including the diagonal)\n",
    "\n",
    "* This algorithm is of sequential nature\n",
    "\n",
    "$$ \n",
    "a_{11} \\mathbf{x_1^{(k+1)}} + a_{12} x_2^{(k)}+a_{13} x_3^{(k)}+...+a_{1n} x_n^{(k)}=b_1 \n",
    "$$\n",
    "\n",
    "$$ \n",
    "a_{21} \\mathbf{x_1^{(k+1)}} + a_{22} \\mathbf{x_2^{(k+1)}}+a_{13} x_3^{(k)}+...+a_{1n} x_n^{(k)}=b_2 \n",
    "$$\n",
    "\n",
    "Solving nonlinear equations: $ f_1(x) = 0,f_2(x)=0,...,f_n(x)=0, x=(x_1,x_2,...,x_n) $\n",
    "\n",
    "$$ f_1(\\mathbf{x_1^{(k+1)}}, x_2^{(k)}, ..., x_n^{(k)})=0 $$"
   ]
  },
  {
   "cell_type": "code",
   "execution_count": 15,
   "metadata": {
    "collapsed": false
   },
   "outputs": [
    {
     "name": "stderr",
     "output_type": "stream",
     "text": [
      "WARNING: Method definition GaussSeidelIterations!(Any, Any, Any, Any) in module Main at In[6]:3 overwritten at In[15]:3.\n"
     ]
    },
    {
     "data": {
      "text/plain": [
       "GaussSeidelIterations! (generic function with 1 method)"
      ]
     },
     "execution_count": 15,
     "metadata": {},
     "output_type": "execute_result"
    }
   ],
   "source": [
    "function GaussSeidelIterations!(x, A, b, numitrs)\n",
    "   \n",
    "   sum=0.0\n",
    "\n",
    "   for itr=1:numitrs \n",
    "   for i=1:size(A,1)\n",
    "        sum=0.0\n",
    "        for j in [1:i-1; i+1:3]\n",
    "            sum+=A[i,j]*x[j]\n",
    "        end\n",
    "        x[i] = (b[i]-sum)/A[i,i]\n",
    "   end\n",
    "   println(itr, \": \", x)\n",
    "   end \n",
    "end"
   ]
  },
  {
   "cell_type": "code",
   "execution_count": 22,
   "metadata": {
    "collapsed": false
   },
   "outputs": [
    {
     "name": "stdout",
     "output_type": "stream",
     "text": [
      "1: [-0.178479,-0.079938,0.152045]\n",
      "2: [0.0703741,-0.0129178,0.0321434]\n",
      "3: [0.0929406,0.0290252,0.0061692]\n",
      "4: [0.0923442,0.0395739,0.00194735]\n",
      "5: [0.091501,0.0414875,0.00145227]\n",
      "6: [0.0912668,0.0417479,0.00142888]\n",
      "7: [0.0912217,0.0417693,0.00143649]\n",
      "8: [0.0912152,0.041768,0.00143945]\n",
      "9: [0.0912146,0.041767,0.00144011]\n",
      "10: [0.0912146,0.0417667,0.00144022]\n",
      "11: [0.0912146,0.0417667,0.00144023]\n",
      "12: [0.0912146,0.0417667,0.00144023]\n",
      "13: [0.0912146,0.0417667,0.00144023]\n",
      "14: [0.0912146,0.0417667,0.00144023]\n",
      "15: [0.0912146,0.0417667,0.00144023]\n",
      "16: [0.0912146,0.0417667,0.00144023]\n",
      "17: [0.0912146,0.0417667,0.00144023]\n",
      "18: [0.0912146,0.0417667,0.00144023]\n",
      "19: [0.0912146,0.0417667,0.00144023]\n",
      "20: [0.0912146,0.0417667,0.00144023]\n",
      "21: [0.0912146,0.0417667,0.00144023]\n",
      "22: [0.0912146,0.0417667,0.00144023]\n",
      "23: [0.0912146,0.0417667,0.00144023]\n",
      "24: [0.0912146,0.0417667,0.00144023]\n",
      "25: [0.0912146,0.0417667,0.00144023]\n",
      "[0.0912146,0.0417667,0.00144023]\n",
      "[-1.11022e-16,0.0,0.0]\n"
     ]
    }
   ],
   "source": [
    "x=rand(3)\n",
    "\n",
    "GaussSeidelIterations!(x, A, b, 25)\n",
    "\n",
    "println(x)\n",
    "println(A*x-b)"
   ]
  },
  {
   "cell_type": "markdown",
   "metadata": {
    "collapsed": true
   },
   "source": [
    "# Convergence of iterative algorithms\n",
    "\n",
    "* linearly convergent algorithms: (**the error in the next step is a linear function of the current error**)\n",
    "$$ e_{n+1} = a e_n $$\n",
    "    \n",
    "    * number of correct digits is a linear function of the number of iterations: $$ \\textrm{num of accurate digits} = \\alpha_0 n $$\n",
    "\n",
    "\n",
    "* quadratically convergent algorithms: (**the error in the next step is a quadratic function of the current error**)\n",
    "$$ e_{n+1} = a e_n^2 $$\n",
    "\n",
    "    * number of correct digits doubles after each iterations: $$ \\textrm{num of accurate digits} = \\alpha_1 2^n$$\n",
    "\n",
    "\n",
    "* p-th order convergent algorithms:\n",
    "$$ e_{n+1} = a e_n^p $$\n",
    "\n",
    "### Possible confusion with ***order of accuracy***\n",
    "\n",
    "(For linearly convergent algorithms)\n",
    "$$e_n \\le Const\\cdot \\frac{1}{n^p}$$\n",
    "\n",
    "**p-th order accurate algorithm**."
   ]
  },
  {
   "cell_type": "markdown",
   "metadata": {
    "collapsed": true
   },
   "source": [
    "## Multi-step iterations\n",
    "\n",
    "Use more than one previously computed approximations to predict the solution of $f(x)=0$.\n",
    "\n",
    "E.g.\n",
    "$$ x_{k+1} := g(x_k, x_{k-1}) $$\n",
    "\n",
    "* IDEA: Use interpolation of $f$\n",
    "\n",
    "### The secant method: $x_{k-1}, x_k \\longrightarrow x_{k+1}$\n",
    "\n",
    "\n",
    "$$ x_{k+1} := x_k -f(x_k)\\frac{x_k-x_{k-1}}{f(x_k)-f(x_{k-1})}$$"
   ]
  },
  {
   "cell_type": "markdown",
   "metadata": {},
   "source": [
    "# Iterative methods for solving nonlinear systems of equations\n",
    "\n",
    "* Direct generalization of the fixed-point iterations for a single equation\n",
    "$$ x_{k+1}:=g(x_k) $$ with $x_k$ being a vector and $g(x_k)$ also."
   ]
  },
  {
   "cell_type": "code",
   "execution_count": 5,
   "metadata": {
    "collapsed": false
   },
   "outputs": [
    {
     "data": {
      "text/plain": [
       "FixedPointItrs! (generic function with 1 method)"
      ]
     },
     "execution_count": 5,
     "metadata": {},
     "output_type": "execute_result"
    }
   ],
   "source": [
    "#x is an array used to store the approximations computed along the iterations\n",
    "#solution at the k-th iteration is x[:,k]\n",
    "#function assumes that x[:,1] is the assigned initial guess\n",
    "function FixedPointItrs!(x::Array{Float64,2}, g)\n",
    "    for k=1:size(x,2)-1\n",
    "        x[:,k+1]=g(x[:,k])\n",
    "    end\n",
    "end\n"
   ]
  },
  {
   "cell_type": "markdown",
   "metadata": {},
   "source": [
    "## Newton's method for systems\n",
    "$f:\\mathbb{R}^d \\mapsto \\mathbb{R}^d$; i.e. $f$ maps a vector of $d$ component, x, to a vector of $d$ component, denoted by $f(x_k)$. \n",
    "\n",
    "$f(x_*)=0$. Taylor expansion gives\n",
    "$$f(x_*) = 0=f(x_k)+f^\\prime(x_k)(x_*-x_k)+\\ldots$$\n",
    "\n",
    "Replace $x_*$ by $x_{k+1}$ yields Newton's method:\n",
    "$$ f^\\prime(x_k)(x_{k+1}-x_k))=-f(x_k), $$\n",
    "where  the derivative $f^\\prime(x)$ is a $d\\times d$ matrix.\n",
    "\n",
    "Here, the $g$ function that defines the fixedpoint iterations is: \n",
    "$$ g(x) := x-f^\\prime(x)^{-1} f(x) $$"
   ]
  },
  {
   "cell_type": "markdown",
   "metadata": {
    "collapsed": true
   },
   "source": [
    "# Worked example: Problem 5.22 in Gander-Gander-Kwok\n",
    "\n",
    "* radius of pipe: $r=4$\n",
    "\n",
    "* rope length: $L=30$\n",
    "\n",
    "Find the distance of the pipe to the ceiling above: $h$.\n",
    "\n",
    "## Setting up equations: \n",
    "\n",
    "* Need to variables to describe the system. $h$ and $\\theta$\n",
    "\n",
    "* radius of pipe = r  = $(h+r)\\cos\\theta$\n",
    "\n",
    "* length of rope = L = (length of rope wrapping around the pipe) + (legth of rope in the air) $$L = 2\\left( r(\\pi - \\theta) + (h+r)\\sin\\theta \\right)$$\n",
    "\n",
    "* Obtain two equations: \n",
    "$$f(h,\\theta):=\\left(\\begin{array}{c}\n",
    "f_{1}(h,\\theta)\\\\\n",
    "f_{2}(h,\\theta)\n",
    "\\end{array}\\right)=\\left(\\begin{array}{c}\n",
    "(h+4)\\cos\\theta-4\\\\\n",
    "(h+4)\\sin\\theta+4(\\pi-\\theta)-15\n",
    "\\end{array}\\right)=\\left(\\begin{array}{c}\n",
    "0\\\\\n",
    "0\n",
    "\\end{array}\\right)\n",
    "$$\n",
    "\n",
    "* Derivative of $f$: $$f^{\\prime}(h,\\theta)=\\left(\\begin{array}{cc}\n",
    "\\frac{\\partial f_{1}}{\\partial h} & \\frac{\\partial f_{1}}{\\partial\\theta}\\\\\n",
    "\\frac{\\partial f_{2}}{\\partial h} & \\frac{\\partial f_{2}}{\\partial\\theta}\n",
    "\\end{array}\\right)=\\left(\\begin{array}{cc}\n",
    "\\cos\\theta & -(h+4)\\sin\\theta\\\\\n",
    "\\sin\\theta & (h+4)\\cos\\theta-4\n",
    "\\end{array}\\right)$$"
   ]
  },
  {
   "cell_type": "code",
   "execution_count": 8,
   "metadata": {
    "collapsed": false
   },
   "outputs": [
    {
     "data": {
      "text/plain": [
       "Newton_prob522 (generic function with 1 method)"
      ]
     },
     "execution_count": 8,
     "metadata": {},
     "output_type": "execute_result"
    }
   ],
   "source": [
    "f(h,θ)  = [ (h+4.0)*cos(θ)-4.0; (h+4.0)*sin(θ)+4.0*(π-θ)-15.0]\n",
    "\n",
    "f′(h,θ) = [cos(θ) -(h+4.0)*sin(θ); sin(θ)  (h+4.0)*cos(θ)-4.0] \n",
    "\n",
    "Newton_prob522(x) = x - f′(x[1],x[2])\\f(x[1],x[2]) #this is not usually how one should run Newton's method"
   ]
  },
  {
   "cell_type": "code",
   "execution_count": 9,
   "metadata": {
    "collapsed": false
   },
   "outputs": [
    {
     "data": {
      "text/plain": [
       "2×7 Array{Float64,2}:\n",
       " 9.0     3.68704  3.64382  3.64414  3.64414  3.64414  3.64414\n",
       " 1.0472  1.0333   1.02021  1.0201   1.0201   1.0201   1.0201 "
      ]
     },
     "execution_count": 9,
     "metadata": {},
     "output_type": "execute_result"
    }
   ],
   "source": [
    "x0=[ 9.0; π/3.0]\n",
    "x=zeros(2, 7)\n",
    "x[:,1]=x0\n",
    "\n",
    "g_prob522(x[:,1]) \n",
    "FixedPointItrs!(x,Newton_prob522)\n",
    "\n",
    "x"
   ]
  },
  {
   "cell_type": "code",
   "execution_count": 7,
   "metadata": {
    "collapsed": false
   },
   "outputs": [
    {
     "name": "stdout",
     "output_type": "stream",
     "text": [
      "Verify that the equations are solved (f should be essentially 0): f = [8.88178e-16, 0.0]\n",
      "\n",
      "Found a solution: h=3.6441356991, θ=1.0201044471\n"
     ]
    }
   ],
   "source": [
    "println(\"Verify that the equations are solved (f should be essentially 0): f = \", f(x[1, end], x[2,end]))\n",
    "\n",
    "h, θ=x[:, end]\n",
    "\n",
    "if norm(f(x[1, end], x[2,end]))<1e-10\n",
    "    println(\"\\nFound a solution: h=\",round(h,10), \", θ=\", round(θ,10))\n",
    "else\n",
    "    println(\"\\nNewton method fails.\")\n",
    "end"
   ]
  },
  {
   "cell_type": "code",
   "execution_count": 1,
   "metadata": {
    "collapsed": false
   },
   "outputs": [
    {
     "name": "stderr",
     "output_type": "stream",
     "text": [
      "\u001b[1m\u001b[36mINFO: \u001b[39m\u001b[22m\u001b[36mPrecompiling module Gadfly.\n",
      "\u001b[39m\u001b[1m\u001b[91mERROR: \u001b[39m\u001b[22mLoadError: \u001b[91mUndefVarError: isconcrete not defined\u001b[39m\n",
      "Stacktrace:\n",
      " [1] \u001b[1minclude_from_node1\u001b[22m\u001b[22m\u001b[1m(\u001b[22m\u001b[22m::String\u001b[1m)\u001b[22m\u001b[22m at \u001b[1m./loading.jl:569\u001b[22m\u001b[22m\n",
      " [2] \u001b[1minclude\u001b[22m\u001b[22m\u001b[1m(\u001b[22m\u001b[22m::String\u001b[1m)\u001b[22m\u001b[22m at \u001b[1m./sysimg.jl:14\u001b[22m\u001b[22m\n",
      " [3] \u001b[1manonymous\u001b[22m\u001b[22m at \u001b[1m./<missing>:2\u001b[22m\u001b[22m\n",
      "while loading /home/juser/.julia/v0.6/ColorTypes/src/ColorTypes.jl, in expression starting on line 9\n",
      "\u001b[1m\u001b[91mERROR: \u001b[39m\u001b[22mLoadError: \u001b[91mFailed to precompile ColorTypes to /home/juser/.julia/lib/v0.6/ColorTypes.ji.\u001b[39m\n",
      "Stacktrace:\n",
      " [1] \u001b[1mcompilecache\u001b[22m\u001b[22m\u001b[1m(\u001b[22m\u001b[22m::String\u001b[1m)\u001b[22m\u001b[22m at \u001b[1m./loading.jl:703\u001b[22m\u001b[22m\n",
      " [2] \u001b[1m_require\u001b[22m\u001b[22m\u001b[1m(\u001b[22m\u001b[22m::Symbol\u001b[1m)\u001b[22m\u001b[22m at \u001b[1m./loading.jl:456\u001b[22m\u001b[22m\n",
      " [3] \u001b[1mrequire\u001b[22m\u001b[22m\u001b[1m(\u001b[22m\u001b[22m::Symbol\u001b[1m)\u001b[22m\u001b[22m at \u001b[1m./loading.jl:398\u001b[22m\u001b[22m\n",
      " [4] \u001b[1minclude_from_node1\u001b[22m\u001b[22m\u001b[1m(\u001b[22m\u001b[22m::String\u001b[1m)\u001b[22m\u001b[22m at \u001b[1m./loading.jl:569\u001b[22m\u001b[22m\n",
      " [5] \u001b[1minclude\u001b[22m\u001b[22m\u001b[1m(\u001b[22m\u001b[22m::String\u001b[1m)\u001b[22m\u001b[22m at \u001b[1m./sysimg.jl:14\u001b[22m\u001b[22m\n",
      " [6] \u001b[1manonymous\u001b[22m\u001b[22m at \u001b[1m./<missing>:2\u001b[22m\u001b[22m\n",
      "while loading /home/juser/.julia/v0.6/Colors/src/Colors.jl, in expression starting on line 5\n",
      "\u001b[1m\u001b[91mERROR: \u001b[39m\u001b[22mLoadError: \u001b[91mFailed to precompile Colors to /home/juser/.julia/lib/v0.6/Colors.ji.\u001b[39m\n",
      "Stacktrace:\n",
      " [1] \u001b[1mcompilecache\u001b[22m\u001b[22m\u001b[1m(\u001b[22m\u001b[22m::String\u001b[1m)\u001b[22m\u001b[22m at \u001b[1m./loading.jl:703\u001b[22m\u001b[22m\n",
      " [2] \u001b[1m_require\u001b[22m\u001b[22m\u001b[1m(\u001b[22m\u001b[22m::Symbol\u001b[1m)\u001b[22m\u001b[22m at \u001b[1m./loading.jl:456\u001b[22m\u001b[22m\n",
      " [3] \u001b[1mrequire\u001b[22m\u001b[22m\u001b[1m(\u001b[22m\u001b[22m::Symbol\u001b[1m)\u001b[22m\u001b[22m at \u001b[1m./loading.jl:398\u001b[22m\u001b[22m\n",
      " [4] \u001b[1minclude_from_node1\u001b[22m\u001b[22m\u001b[1m(\u001b[22m\u001b[22m::String\u001b[1m)\u001b[22m\u001b[22m at \u001b[1m./loading.jl:569\u001b[22m\u001b[22m\n",
      " [5] \u001b[1minclude\u001b[22m\u001b[22m\u001b[1m(\u001b[22m\u001b[22m::String\u001b[1m)\u001b[22m\u001b[22m at \u001b[1m./sysimg.jl:14\u001b[22m\u001b[22m\n",
      " [6] \u001b[1manonymous\u001b[22m\u001b[22m at \u001b[1m./<missing>:2\u001b[22m\u001b[22m\n",
      "while loading /home/juser/.julia/v0.6/Gadfly/src/Gadfly.jl, in expression starting on line 5\n"
     ]
    },
    {
     "ename": "LoadError",
     "evalue": "\u001b[91mFailed to precompile Gadfly to /home/juser/.julia/lib/v0.6/Gadfly.ji.\u001b[39m",
     "output_type": "error",
     "traceback": [
      "\u001b[91mFailed to precompile Gadfly to /home/juser/.julia/lib/v0.6/Gadfly.ji.\u001b[39m",
      "",
      "Stacktrace:",
      " [1] \u001b[1mcompilecache\u001b[22m\u001b[22m\u001b[1m(\u001b[22m\u001b[22m::String\u001b[1m)\u001b[22m\u001b[22m at \u001b[1m./loading.jl:703\u001b[22m\u001b[22m",
      " [2] \u001b[1m_require\u001b[22m\u001b[22m\u001b[1m(\u001b[22m\u001b[22m::Symbol\u001b[1m)\u001b[22m\u001b[22m at \u001b[1m./loading.jl:456\u001b[22m\u001b[22m",
      " [3] \u001b[1mrequire\u001b[22m\u001b[22m\u001b[1m(\u001b[22m\u001b[22m::Symbol\u001b[1m)\u001b[22m\u001b[22m at \u001b[1m./loading.jl:398\u001b[22m\u001b[22m"
     ]
    }
   ],
   "source": [
    "using Gadfly\n",
    "\n",
    "t=collect(0:0.025:2π)\n",
    "\n",
    "P=plot( layer(x=[4cos(π/2+θ) 0.0 4cos(π/2-θ)], y=[4sin(π/2+θ)-(h+4.0) 0.0 4sin(π/2+θ)-(h+4.0)], Geom.line(preserve_order=true)),\n",
    "layer(x=4sin(t), y=(4cos(t)-h-4.0), Geom.line(preserve_order=true) ), Coord.cartesian(aspect_ratio=8./15.))\n",
    "\n",
    "#draw(PDF(\"pipe.pdf\", 3inch, 3inch), P)\n"
   ]
  },
  {
   "cell_type": "code",
   "execution_count": null,
   "metadata": {
    "collapsed": true
   },
   "outputs": [],
   "source": []
  }
 ],
 "metadata": {
  "anaconda-cloud": {},
  "kernelspec": {
   "display_name": "Julia 0.6.0",
   "language": "julia",
   "name": "julia-0.6"
  },
  "language_info": {
   "file_extension": ".jl",
   "mimetype": "application/julia",
   "name": "julia",
   "version": "0.6.0"
  }
 },
 "nbformat": 4,
 "nbformat_minor": 1
}
