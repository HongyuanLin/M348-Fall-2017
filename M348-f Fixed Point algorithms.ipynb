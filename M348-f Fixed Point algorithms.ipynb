{
 "cells": [
  {
   "cell_type": "markdown",
   "metadata": {},
   "source": [
    "## Bisection method\n",
    "\n",
    "* This is an important concept: One wish to **\"sandwich\"** the value that one wishes to compute."
   ]
  },
  {
   "cell_type": "code",
   "execution_count": null,
   "metadata": {
    "collapsed": false
   },
   "outputs": [],
   "source": [
    "\"Find the root of a monotone function f(x) in [a,b]\"\n",
    "function bisection(f::Function, a::Float64, b::Float64; tol=1e-12)\n",
    "    \n",
    "    fa=f(a)\n",
    "    v=1.0\n",
    "\n",
    "    if fa>0.0\n",
    "        v=-1.0\n",
    "    end\n",
    "\n",
    "    if fa*f(b)>0\n",
    "        println(\"Error: f(a) and f(b) have the same sign\")\n",
    "        #need to close the program if this occurs\n",
    "    end\n",
    "\n",
    "    x=(a+b)/2.0; ##The mid-point of the interval [a,b]\n",
    "\n",
    "    while(b-a>tol) & ((a<x) &(x<b))\n",
    "        if v*f(x)>0\n",
    "            b=x;\n",
    "        else\n",
    "            a=x;\n",
    "        end\n",
    "        x=(a+b)/2;\n",
    "    end\n",
    "\n",
    "    return x\n",
    "end \n"
   ]
  },
  {
   "cell_type": "code",
   "execution_count": null,
   "metadata": {
    "collapsed": false
   },
   "outputs": [],
   "source": [
    "# define f(x)\n",
    "f(x)=x+exp(x);\n",
    "\n",
    "# define [a,b] and tol\n",
    "a=-1.0; b=0.0;\n",
    "tol=0;\n",
    "\n",
    "@time x=bisection(f,a,b)\n",
    "@time x=bisection(f,a,b)\n",
    "@time x=bisection(f,a,b)\n",
    "\n",
    "\n",
    "@printf(\"x = %20.15f\\n\", x)\n",
    "@printf(\"f(x) = %20.15e\\n\\n\", f(x))\n"
   ]
  },
  {
   "cell_type": "markdown",
   "metadata": {},
   "source": [
    "# Fixed point iterations\n",
    "\n",
    "Find the root of \n",
    "$$f(x)=xe^x-1 =0$$\n",
    "by fixed point iterations.\n",
    "\n",
    "* Need to come up with $g(x)$ such that \n",
    "$$ f(x^*)=0 \\iff x^* = g(x^*) $$\n",
    "\n",
    "* Introduce the fixed point iteration for $g$: $$ x_{k+1} := g(x_k).$$\n",
    "\n",
    "**What should $g(x)$ be?** \n",
    "So that $x_k\\longrightarrow x^*$\n",
    "\n",
    "The following examples come from Gander-Gander-Kwok."
   ]
  },
  {
   "cell_type": "markdown",
   "metadata": {},
   "source": [
    "### Ex1: divide by $e^x$\n",
    "\n",
    "$$ x=e^{-x} \\implies x_{k+1}:= e^{-x_k} $$\n",
    "\n",
    "* This fixed point iteration has a **first order** convergence rate\n",
    "    * Oberve in the following computation that: **The number of correct digits grows linearly in k**"
   ]
  },
  {
   "cell_type": "code",
   "execution_count": null,
   "metadata": {
    "collapsed": false
   },
   "outputs": [],
   "source": [
    "println(\"Try a few different initial guesses and observe if the iterations will converge to the same number.\\n\")\n",
    "\n",
    "x=zeros(50)\n",
    "x[1]=-1.5\n",
    "\n",
    "println(\"\\nIterating using initial guess\\n\\nx[1]=\", x[1], \"\\n\")\n",
    "\n",
    "for k=1:length(x)-1\n",
    "    x[k+1]=exp(-x[k]) \n",
    "    \n",
    "    println(\"x[\",k+1,\"]=\", round(x[k+1], 10) , \",\\t difference = \", round(abs(x[k+1]-x[k]),10))\n",
    "end\n",
    "\n",
    "\n",
    "x[1]=-100.5\n",
    "println(\"\\nIterating using a different initial guess.\\n\\nx[1]=\", x[1], \"\\n\")\n",
    "for k=1:length(x)-1\n",
    "    x[k+1]=exp(-x[k]) \n",
    "    \n",
    "    println(\"x[\",k+1,\"]=\", round(x[k+1], 50) , \",\\t difference = \", round(abs(x[k+1]-x[k]),10))    \n",
    "end"
   ]
  },
  {
   "cell_type": "markdown",
   "metadata": {},
   "source": [
    "### Ex2: add $x$ to the equation $xe^x-1=0$\n",
    "\n",
    "$$ x+xe^{x}=1+x \\implies x(1+e^x) = 1+x $$\n",
    "Define the iterations:\n",
    "$$x_{k+1}(1+e^{x_k}) = 1+x_k $$\n",
    "or more conveniently: \n",
    "$$x_{k+1}:= \\frac{1+x_k}{1+e^{x_k}} $$\n",
    "\n",
    "* This fixed point iteration scheme has **second order** convergence rate: $$e_{k+1} \\le C e_k^2 $$\n",
    "because \n",
    "$$|g^\\prime(x^*)|= -\\frac{1-x^*e^{x^*}}{(1+e^{x^*})^2}=0$$\n",
    "($1-x^*e^{x^*}=0$ because $x^*$ is the solution we want.\n",
    "\n",
    "* **The number of correct digits doubles in each iteration** (if $e_0$ is sufficiently small\n",
    "*  Oberve non-convergence resulting from using a bad initial condition: **initial error is very important**"
   ]
  },
  {
   "cell_type": "code",
   "execution_count": null,
   "metadata": {
    "collapsed": false
   },
   "outputs": [],
   "source": [
    "x=zeros(10)\n",
    "\n",
    "x[1]=1.567 #Initial condition that leads to very fast convergence\n",
    "\n",
    "println(\"\\nIterating using initial guess\\n\\nx[1]=\", x[1], \"\\n\")\n",
    "\n",
    "\n",
    "for k=1:length(x)-1\n",
    "    x[k+1]= (1.0+x[k])/(1.0+exp(x[k]))\n",
    "    println(\"x[\",k+1,\"]=\", round(x[k+1], 10) , \",\\t difference = \", round(abs(x[k+1]-x[k]),10))    \n",
    "\n",
    "end\n",
    "\n",
    "\n",
    "x[1]=-100.5 #initial conditionthat leads to divergent iterations\n",
    "println(\"\\nIterating using initial guess\\n\\nx[1]=\", x[1], \"\\n\")\n",
    "\n",
    "for k=1:length(x)-1\n",
    "    x[k+1]= (1.0+x[k])/(1.0+exp(x[k]))\n",
    "    println(\"x[\",k+1,\"]=\", round(x[k+1], 10) , \",\\t difference = \", round(abs(x[k+1]-x[k]),10))    \n",
    "\n",
    "end"
   ]
  },
  {
   "cell_type": "markdown",
   "metadata": {},
   "source": [
    "### ex3: add $x$ to the equation $xe^x-1=0$\n",
    "\n",
    "$$ x+xe^{x}=1+x \\implies x=1+x-xe^x=:g(x)$$\n",
    "Define the iterations:\n",
    "$$x_{k+1} = 1+x_k - x_k e^{x_k} $$"
   ]
  },
  {
   "cell_type": "code",
   "execution_count": null,
   "metadata": {
    "collapsed": false
   },
   "outputs": [],
   "source": [
    "x=zeros(20)\n",
    "x[1]=1.5\n",
    "\n",
    "for k=1:length(x)-1\n",
    "    x[k+1]=1.0+x[k]-x[k]*exp(x[k]) \n",
    "    println(\"x[\",k+1,\"]=\", round(x[k+1], 10) , \",\\t difference = \", round(abs(x[k+1]-x[k]),10))    \n",
    "\n",
    "end\n"
   ]
  },
  {
   "cell_type": "markdown",
   "metadata": {},
   "source": [
    "### A more organized way to study the iterations\n",
    "\n",
    "* Write a general function implementing teh fixed point interation\n",
    "* pass in different $g$ and $x_0$ to this function "
   ]
  },
  {
   "cell_type": "code",
   "execution_count": null,
   "metadata": {
    "collapsed": false
   },
   "outputs": [],
   "source": [
    "#x is a vector to store teh approximations computed along the iterations\n",
    "#function assumes that x[1] is the assigned initial guess\n",
    "function FixedPointItrs!(x::Array{Float64,1}, g)\n",
    "    for k=1:length(x)-1\n",
    "        x[k+1]=g(x[k])\n",
    "    end\n",
    "end"
   ]
  },
  {
   "cell_type": "code",
   "execution_count": null,
   "metadata": {
    "collapsed": false
   },
   "outputs": [],
   "source": [
    "x=zeros(12)\n",
    "x[1]=1.5\n",
    "\n",
    "g1(y)=exp(-y)\n",
    "g2(y)=(1.0+y)/(1.0+exp(y))\n",
    "g3(y)=1.0+y-y*exp(y)\n",
    "\n",
    "println(\"\\nCompare different fixed-point iterations (different g's) for solving the same equation.\\n\")\n",
    "\n",
    "FixedPointItrs!(x, g1)\n",
    "\n",
    "y=copy(x)\n",
    "FixedPointItrs!(y, g2)\n",
    "\n",
    "z=copy(x)\n",
    "FixedPointItrs!(z, g3)\n",
    "\n",
    "println(\"\\nSequence generated by g=\", g1)\n",
    "println(round(x',6))\n",
    "println(\"\\nSequence generated by g=\", g2)\n",
    "println(round(y',6))\n",
    "println(\"\\nSequence generated by g=\", g3)\n",
    "println(round(z',6))\n",
    "\n"
   ]
  },
  {
   "cell_type": "markdown",
   "metadata": {},
   "source": [
    "## Two fixed point iterations to solve linear systems of equations\n",
    "\n",
    "* Jacobi iterations\n",
    "* Gauss-Seidel iterations\n",
    "\n",
    "Let the linear system of equations be \n",
    "$$ Ax =b, $$\n",
    "where $A$ is an $N\\times n$ invertible matrix, and $x,b$ are two vectors in $\\mathbb{R}^n$.\n",
    "\n",
    "\n",
    "A general strategy in coming up with fixed point iterations is to *split* $A$ into the sum of two matrices, separate the equations accordingly by the equal sign\n",
    "$$\n",
    "A=M+N \\implies Ax=b \\iff Mx=-Nx+b\n",
    "$$\n",
    "and define the iterations\n",
    "$$\n",
    "Mx_{k+1} = -Nx_{k} +b.\n",
    "$$\n",
    "\n",
    "**Of course, $M$ has to be very simple and easy to invert.**\n",
    "\n",
    "**Both iterative schemes can be used to solve *nonlinear* equations**\n"
   ]
  },
  {
   "cell_type": "markdown",
   "metadata": {},
   "source": [
    "### Jacobi iterations\n",
    "\n",
    "In the Jacobi iterations, $M$ is the diagonal of $A$ (and $N$ is $A$ with its diagonal culled out).\n",
    "\n",
    "* Very easy parallelization\n",
    "\n",
    "\n",
    "$$ \n",
    "a_{11} \\mathbf{x_1^{(k+1)}} + a_{12} x_2^{(k)}+a_{13} x_3^{(k)}+...+a_{1n} x_n^{(k)}=b_1 \n",
    "$$\n",
    "\n",
    "$$ \n",
    "a_{21} x_1^{(k)} + a_{22} \\mathbf{x_2^{(k+1)}}+a_{13} x_3^{(k)}+...+a_{1n} x_n^{(k)}=b_2 \n",
    "$$\n",
    "\n",
    "$$\\vdots$$\n",
    "\n",
    "\n",
    "Solving nonlinear equations: $ f_1(x) = 0,f_2(x)=0,...,f_n(x)=0, x=(x_1,x_2,...,x_n) $\n",
    "\n",
    "$$ f_1(\\mathbf{x_1^{(k+1)}}, x_2^{(k)}, ..., x_n^{(k)})=0 $$\n",
    "$$ f_2({x_1^{(k)}}, \\mathbf{x_2^{(k)}}, ..., x_n^{(k)})=0 $$\n",
    "$$\\vdots$$"
   ]
  },
  {
   "cell_type": "code",
   "execution_count": 1,
   "metadata": {
    "collapsed": false
   },
   "outputs": [
    {
     "name": "stdout",
     "output_type": "stream",
     "text": [
      "[-0.171195, -0.272955, 0.000141193]\n",
      "[0.154549, 0.112262, 0.230632]\n",
      "[0.00835797, -0.0667991, -0.0515757]\n",
      "[0.128833, 0.0850682, 0.0776783]\n",
      "[0.0596829, 0.00124001, -0.0306512]\n",
      "[0.108947, 0.0630117, 0.030121]\n",
      "[0.0783613, 0.0255656, -0.0140382]\n",
      "[0.0990983, 0.0513856, 0.0129971]\n",
      "[0.0858237, 0.0350416, -0.00551436]\n",
      "[0.094646, 0.0459861, 0.00625795]\n",
      "[0.0889254, 0.0389246, -0.00160056]\n",
      "[0.0926953, 0.0435934, 0.0034803]\n",
      "[0.0902372, 0.0405558, 0.000125559]\n",
      "[0.0918512, 0.0425532, 0.00231016]\n",
      "[0.0907963, 0.041249, 0.000874544]\n",
      "[0.0914878, 0.0421045, 0.00181232]\n",
      "[0.0910354, 0.041545, 0.00119732]\n",
      "[0.0913318, 0.0419116, 0.0015996]\n",
      "[0.0911378, 0.0416717, 0.00133602]\n",
      "[0.0912649, 0.0418288, 0.00150853]\n",
      "[0.0911817, 0.041726, 0.00139554]\n",
      "[0.0912361, 0.0417933, 0.00146951]\n",
      "[0.0912005, 0.0417492, 0.00142107]\n",
      "[0.0912238, 0.0417781, 0.00145278]\n",
      "[0.0912085, 0.0417592, 0.00143201]\n",
      "\n",
      "Checking the residual: [-0.00010013, -0.000185771, -0.000258353]\n"
     ]
    }
   ],
   "source": [
    "#Example: Jacobi iterations\n",
    "\n",
    "A=[10. 2. 3.; 4. 15. 6.; 7. 8. 19.]\n",
    "\n",
    "#What happens if the diagonal elements are smaller, but A is still invertible?\n",
    "# A=[1. 2. 3.; 4. 5. 6.; 7. 8. 19.]\n",
    "\n",
    "\n",
    "M=zeros(3,3)\n",
    "\n",
    "M=diagm( diag(A),0)\n",
    "\n",
    "N=A-M\n",
    "\n",
    "Minv = inv(M)\n",
    "\n",
    "b=ones(3)\n",
    "x=rand(3)\n",
    "\n",
    "#the following for-loop is only for illustrating teh concept of Jacobi iteration\n",
    "#in practice, one should never allocate memory for M or Minv\n",
    "for k=1:25\n",
    "   x = Minv*(-N*x+b) \n",
    "   println(x)\n",
    "end\n",
    "\n",
    "println(\"\\nChecking the residual: \", A*x-b)"
   ]
  },
  {
   "cell_type": "code",
   "execution_count": 2,
   "metadata": {
    "collapsed": false
   },
   "outputs": [
    {
     "data": {
      "text/plain": [
       "3-element Array{Float64,1}:\n",
       "  0.65478 \n",
       " -0.223815\n",
       " -0.430965"
      ]
     },
     "execution_count": 2,
     "metadata": {},
     "output_type": "execute_result"
    }
   ],
   "source": [
    "eigvals(Minv*N)"
   ]
  },
  {
   "cell_type": "code",
   "execution_count": null,
   "metadata": {
    "collapsed": false
   },
   "outputs": [],
   "source": [
    "#a more appropirate way to implementing the JAcobi iterations\n",
    "function JacobiIterations!(x, A, b, numitrs)\n",
    "   \n",
    "   xnext=copy(x)\n",
    "   sum=0.0\n",
    "    \n",
    "   for itr=1:numitrs \n",
    "   for i=1:size(A,1)\n",
    "        sum=0.0\n",
    "        for j in [1:i-1; i+1:3]\n",
    "            sum+=A[i,j]*x[j]\n",
    "        end\n",
    "        xnext[i] = (b[i]-sum)/A[i,i]\n",
    "   end\n",
    "    \n",
    "   x.=xnext\n",
    "   println(itr,\": \", x)\n",
    "   end \n",
    "end\n",
    "\n",
    "x=rand(3)\n",
    "\n",
    "JacobiIterations!(x, A, b, 25)\n",
    "\n",
    "println(x)\n",
    "println(A*x-b)"
   ]
  },
  {
   "cell_type": "markdown",
   "metadata": {},
   "source": [
    "### Gauss-Seidel iterations\n",
    "\n",
    "In the Gauss-Seidel iterations, $M$ is the lower triangular part of $A$ (including the diagonal)\n",
    "\n",
    "* This algorithm is of sequential nature\n",
    "\n",
    "$$ \n",
    "a_{11} \\mathbf{x_1^{(k+1)}} + a_{12} x_2^{(k)}+a_{13} x_3^{(k)}+...+a_{1n} x_n^{(k)}=b_1 \n",
    "$$\n",
    "\n",
    "$$ \n",
    "a_{21} \\mathbf{x_1^{(k+1)}} + a_{22} \\mathbf{x_2^{(k+1)}}+a_{13} x_3^{(k)}+...+a_{1n} x_n^{(k)}=b_2 \n",
    "$$\n",
    "$$ \\vdots$$\n",
    "\n",
    "Solving nonlinear equations: $ f_1(x) = 0,f_2(x)=0,...,f_n(x)=0, x=(x_1,x_2,...,x_n) $\n",
    "\n",
    "$$ f_1(\\mathbf{x_1^{(k+1)}}, x_2^{(k)}, ..., x_n^{(k)})=0 $$\n",
    "$$ f_2(\\mathbf{x_1^{(k+1)}}, \\mathbf{x_2^{(k+1)}}, ..., x_n^{(k)})=0 $$\n",
    "$$\\vdots$$"
   ]
  },
  {
   "cell_type": "code",
   "execution_count": null,
   "metadata": {
    "collapsed": false
   },
   "outputs": [],
   "source": [
    "function GaussSeidelIterations!(x, A, b, numitrs)\n",
    "   \n",
    "   sum=0.0\n",
    "\n",
    "   for itr=1:numitrs \n",
    "   for i=1:size(A,1)\n",
    "        sum=0.0\n",
    "        for j in [1:i-1; i+1:3]\n",
    "            sum+=A[i,j]*x[j]\n",
    "        end\n",
    "        x[i] = (b[i]-sum)/A[i,i]\n",
    "   end\n",
    "   println(itr, \": \", x)\n",
    "   end \n",
    "end"
   ]
  },
  {
   "cell_type": "code",
   "execution_count": null,
   "metadata": {
    "collapsed": false
   },
   "outputs": [],
   "source": [
    "x=rand(3)\n",
    "\n",
    "GaussSeidelIterations!(x, A, b, 25)\n",
    "\n",
    "println(x)\n",
    "println(A*x-b)"
   ]
  },
  {
   "cell_type": "markdown",
   "metadata": {
    "collapsed": true
   },
   "source": [
    "# Convergence of iterative algorithms\n",
    "\n",
    "* linearly convergent algorithms: (**the error in the next step is a linear function of the current error**)\n",
    "$$ e_{n+1} = a e_n $$\n",
    "    \n",
    "    * number of correct digits is a linear function of the number of iterations: $$ \\textrm{num of accurate digits} = \\alpha_0 n $$\n",
    "\n",
    "\n",
    "* quadratically convergent algorithms: (**the error in the next step is a quadratic function of the current error**)\n",
    "$$ e_{n+1} = a e_n^2 $$\n",
    "\n",
    "    * number of correct digits doubles after each iterations: $$ \\textrm{num of accurate digits} = \\alpha_1 2^n$$\n",
    "\n",
    "\n",
    "* p-th order convergent algorithms:\n",
    "$$ e_{n+1} = a e_n^p $$\n",
    "\n",
    "### Possible confusion with ***order of accuracy***\n",
    "\n",
    "(For linearly convergent algorithms)\n",
    "$$e_n \\le Const\\cdot \\frac{1}{n^p}$$\n",
    "\n",
    "**p-th order accurate algorithm**."
   ]
  },
  {
   "cell_type": "markdown",
   "metadata": {
    "collapsed": true
   },
   "source": [
    "## Multi-step iterations\n",
    "\n",
    "Use more than one previously computed approximations to predict the solution of $f(x)=0$.\n",
    "\n",
    "E.g.\n",
    "$$ x_{k+1} := g(x_k, x_{k-1}) $$\n",
    "\n",
    "* IDEA: Use interpolation of $f$\n",
    "\n",
    "### The secant method: $x_{k-1}, x_k \\longrightarrow x_{k+1}$\n",
    "\n",
    "\n",
    "$$ x_{k+1} := x_k -f(x_k)\\frac{x_k-x_{k-1}}{f(x_k)-f(x_{k-1})}$$"
   ]
  },
  {
   "cell_type": "markdown",
   "metadata": {},
   "source": [
    "# Iterative methods for solving nonlinear systems of equations\n",
    "\n",
    "* Direct generalization of the **fixed-point iterations** for a single equation\n",
    "$$ x_{k+1}:=g(x_k) $$ with $x_k$ being a vector and $g(x_k)$ also.\n",
    "\n",
    "* See above on **Jacobi** and **Gauss-Seidel** iterations\n",
    "\n",
    "* **Newton's method**. Caution: need to solve a linear system at every iteration. Generally difficult and costly for large systems. Try use **quasi-Newton method**."
   ]
  },
  {
   "cell_type": "code",
   "execution_count": null,
   "metadata": {
    "collapsed": false
   },
   "outputs": [],
   "source": [
    "#x is an array used to store the approximations computed along the iterations\n",
    "#solution at the k-th iteration is x[:,k]\n",
    "#function assumes that x[:,1] is the assigned initial guess\n",
    "function FixedPointItrs!(x::Array{Float64,2}, g)\n",
    "    for k=1:size(x,2)-1\n",
    "        x[:,k+1]=g(x[:,k])\n",
    "    end\n",
    "end\n"
   ]
  },
  {
   "cell_type": "markdown",
   "metadata": {},
   "source": [
    "## Newton's method for systems\n",
    "$f:\\mathbb{R}^d \\mapsto \\mathbb{R}^d$; i.e. $f$ maps a vector of $d$ component, x, to a vector of $d$ component, denoted by $f(x_k)$. \n",
    "\n",
    "$f(x_*)=0$. Taylor expansion gives\n",
    "$$f(x_*) = 0=f(x_k)+f^\\prime(x_k)(x_*-x_k)+\\ldots$$\n",
    "\n",
    "Replace $x_*$ by $x_{k+1}$ yields Newton's method:\n",
    "$$ f^\\prime(x_k)(x_{k+1}-x_k))=-f(x_k), $$\n",
    "where  the derivative $f^\\prime(x)$ is a $d\\times d$ matrix.\n",
    "\n",
    "Here, the $g$ function that defines the fixedpoint iterations is: \n",
    "$$ g(x) := x-f^\\prime(x)^{-1} f(x) $$"
   ]
  },
  {
   "cell_type": "markdown",
   "metadata": {
    "collapsed": true
   },
   "source": [
    "# Worked example: Problem 5.22 in Gander-Gander-Kwok\n",
    "\n",
    "* radius of pipe: $r=4$\n",
    "\n",
    "* rope length: $L=30$\n",
    "\n",
    "Find the distance of the pipe to the ceiling above: $h$.\n",
    "\n",
    "## Setting up equations: \n",
    "\n",
    "* Need to variables to describe the system. $h$ and $\\theta$\n",
    "\n",
    "* radius of pipe = r  = $(h+r)\\cos\\theta$\n",
    "\n",
    "* length of rope = L = (length of rope wrapping around the pipe) + (legth of rope in the air) $$L = 2\\left( r(\\pi - \\theta) + (h+r)\\sin\\theta \\right)$$\n",
    "\n",
    "* Obtain two equations: \n",
    "$$f(h,\\theta):=\\left(\\begin{array}{c}\n",
    "f_{1}(h,\\theta)\\\\\n",
    "f_{2}(h,\\theta)\n",
    "\\end{array}\\right)=\\left(\\begin{array}{c}\n",
    "(h+4)\\cos\\theta-4\\\\\n",
    "(h+4)\\sin\\theta+4(\\pi-\\theta)-15\n",
    "\\end{array}\\right)=\\left(\\begin{array}{c}\n",
    "0\\\\\n",
    "0\n",
    "\\end{array}\\right)\n",
    "$$\n",
    "\n",
    "* Derivative of $f$: $$f^{\\prime}(h,\\theta)=\\left(\\begin{array}{cc}\n",
    "\\frac{\\partial f_{1}}{\\partial h} & \\frac{\\partial f_{1}}{\\partial\\theta}\\\\\n",
    "\\frac{\\partial f_{2}}{\\partial h} & \\frac{\\partial f_{2}}{\\partial\\theta}\n",
    "\\end{array}\\right)=\\left(\\begin{array}{cc}\n",
    "\\cos\\theta & -(h+4)\\sin\\theta\\\\\n",
    "\\sin\\theta & (h+4)\\cos\\theta-4\n",
    "\\end{array}\\right)$$"
   ]
  },
  {
   "cell_type": "code",
   "execution_count": null,
   "metadata": {
    "collapsed": false
   },
   "outputs": [],
   "source": [
    "f(h,θ)  = [ (h+4.0)*cos(θ)-4.0; (h+4.0)*sin(θ)+4.0*(π-θ)-15.0]\n",
    "\n",
    "f′(h,θ) = [cos(θ) -(h+4.0)*sin(θ); sin(θ)  (h+4.0)*cos(θ)-4.0] \n",
    "\n",
    "Newton_prob522(x) = x - f′(x[1],x[2])\\f(x[1],x[2]) #this is not usually how one should run Newton's method"
   ]
  },
  {
   "cell_type": "code",
   "execution_count": null,
   "metadata": {
    "collapsed": false
   },
   "outputs": [],
   "source": [
    "x0=[ 9.0; π/3.0]\n",
    "x=zeros(2, 7)\n",
    "x[:,1]=x0\n",
    "\n",
    "g_prob522(x[:,1]) \n",
    "FixedPointItrs!(x,Newton_prob522)\n",
    "\n",
    "x"
   ]
  },
  {
   "cell_type": "code",
   "execution_count": null,
   "metadata": {
    "collapsed": false
   },
   "outputs": [],
   "source": [
    "println(\"Verify that the equations are solved (f should be essentially 0): f = \", f(x[1, end], x[2,end]))\n",
    "\n",
    "h, θ=x[:, end]\n",
    "\n",
    "if norm(f(x[1, end], x[2,end]))<1e-10\n",
    "    println(\"\\nFound a solution: h=\",round(h,10), \", θ=\", round(θ,10))\n",
    "else\n",
    "    println(\"\\nNewton method fails.\")\n",
    "end"
   ]
  },
  {
   "cell_type": "code",
   "execution_count": null,
   "metadata": {
    "collapsed": false
   },
   "outputs": [],
   "source": [
    "using Gadfly\n",
    "\n",
    "t=collect(0:0.025:2π)\n",
    "\n",
    "P=plot( layer(x=[4cos(π/2+θ) 0.0 4cos(π/2-θ)], y=[4sin(π/2+θ)-(h+4.0) 0.0 4sin(π/2+θ)-(h+4.0)], Geom.line(preserve_order=true)),\n",
    "layer(x=4sin(t), y=(4cos(t)-h-4.0), Geom.line(preserve_order=true) ), Coord.cartesian(aspect_ratio=8./15.))\n",
    "\n",
    "#draw(PDF(\"pipe.pdf\", 3inch, 3inch), P)\n"
   ]
  },
  {
   "cell_type": "code",
   "execution_count": null,
   "metadata": {
    "collapsed": true
   },
   "outputs": [],
   "source": []
  }
 ],
 "metadata": {
  "anaconda-cloud": {},
  "kernelspec": {
   "display_name": "Julia 0.6.0",
   "language": "julia",
   "name": "julia-0.6"
  },
  "language_info": {
   "file_extension": ".jl",
   "mimetype": "application/julia",
   "name": "julia",
   "version": "0.6.0"
  }
 },
 "nbformat": 4,
 "nbformat_minor": 1
}
