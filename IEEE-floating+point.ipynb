{
 "cells": [
  {
   "cell_type": "markdown",
   "metadata": {},
   "source": [
    "# IEEE floating points\n",
    "\n",
    "* A single precision floating point number is defiend by 32 bits.\n",
    "* Each bit takes the value of either 0 or 1 (base 2 system)\n",
    "\n",
    "* The first bit is for the sign of the number, and uses the convention $$ (-1)^S, $$ \n",
    "        * so $S=0$ if the number is negative\n",
    "\n",
    "* The next 8 bits gives the magnitude of the number, in base 2. This quatity is represented by here by $e$:\n",
    "$$ e = b_7 2^7 + b_6 2^6 +\\cdots+ b_0 2^0$$ \n",
    "\n",
    "* The remaining 23 bits stores the actual \"digits\" of the number.\n",
    "\n",
    "$$ A = (-1)^S*\\frac{e}{2^127}*1.m = (-1)^S \\times 2^{e-127} \\times (1.m)_{\\mathrm{base} 2} $$\n",
    "\n",
    "* Base 2 representation: $$(1.m)_{\\mathrm{base} 2} = 1+ b_1~2^{-1} + b_2~2^{-2}+\\cdots+b_{23}~2^{-23}$$"
   ]
  },
  {
   "cell_type": "code",
   "execution_count": 6,
   "metadata": {
    "collapsed": false
   },
   "outputs": [
    {
     "data": {
      "text/plain": [
       "printbits (generic function with 3 methods)"
      ]
     },
     "execution_count": 6,
     "metadata": {},
     "output_type": "execute_result"
    }
   ],
   "source": [
    "printred(x)  =print(\"\\x1b[31m\"*x*\"\\x1b[0m \")\n",
    "printgreen(x)=print(\"\\x1b[32m\"*x*\"\\x1b[0m \")\n",
    "printblue(x) =print(\"\\x1b[34m\"*x*\"\\x1b[0m\")\n",
    "\n",
    "#for ANSI codes for defining color in a terminal: check out the blog: \n",
    "# http://jafrog.com/2013/11/23/colors-in-terminal.html\n",
    "\n",
    "\n",
    "function printbits(x::Float32)\n",
    "   bts=bits(x)\n",
    "    printred(bts[1:1])\n",
    "    printgreen(bts[2:2+8-1])\n",
    "    printblue(bts[2+8:end])\n",
    "end\n"
   ]
  },
  {
   "cell_type": "code",
   "execution_count": 8,
   "metadata": {
    "collapsed": false
   },
   "outputs": [
    {
     "name": "stdout",
     "output_type": "stream",
     "text": [
      "\u001b[31m1\u001b[0m\u001b[32m10000000\u001b[0m\u001b[34m10010010000111111011011\u001b[0m"
     ]
    }
   ],
   "source": [
    "printbits(Float32(-π))"
   ]
  },
  {
   "cell_type": "markdown",
   "metadata": {},
   "source": [
    "# Home work assignments:\n",
    "\n",
    "1. Write a Julia function that prints the bits of a double precision floating point.\n",
    "\n",
    "2. Write an algorithm, in psuedo-code, that converts a given real number into the closest IEEE floating number. Explain your algorithm."
   ]
  },
  {
   "cell_type": "code",
   "execution_count": 1,
   "metadata": {
    "collapsed": false
   },
   "outputs": [
    {
     "name": "stdout",
     "output_type": "stream",
     "text": [
      "\u001b[31m"
     ]
    }
   ],
   "source": []
  },
  {
   "cell_type": "code",
   "execution_count": null,
   "metadata": {
    "collapsed": true
   },
   "outputs": [],
   "source": []
  }
 ],
 "metadata": {
  "kernelspec": {
   "display_name": "Julia 0.7.0-DEV",
   "language": "julia",
   "name": "julia-0.7"
  },
  "language_info": {
   "file_extension": ".jl",
   "mimetype": "application/julia",
   "name": "julia",
   "version": "0.7.0"
  }
 },
 "nbformat": 4,
 "nbformat_minor": 2
}
