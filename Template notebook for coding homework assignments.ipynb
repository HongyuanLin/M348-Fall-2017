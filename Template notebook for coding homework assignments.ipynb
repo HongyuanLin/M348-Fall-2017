{
 "cells": [
  {
   "cell_type": "markdown",
   "metadata": {},
   "source": [
    "# Homework 1\n",
    "\n",
    "## Name: \n",
    "## EID:"
   ]
  },
  {
   "cell_type": "markdown",
   "metadata": {},
   "source": [
    "### Problem\n",
    "\n",
    "Put a description on which problem you are solving."
   ]
  },
  {
   "cell_type": "code",
   "execution_count": 1,
   "metadata": {
    "collapsed": false
   },
   "outputs": [
    {
     "name": "stdout",
     "output_type": "stream",
     "text": [
      "Hello world! My name is Richard\n"
     ]
    }
   ],
   "source": [
    "##Your codes. Definition of the functions and the script to run the simulations\n",
    "\n",
    "#example:\n",
    "\n",
    "function hello(name_str)\n",
    "   println(\"Hello world! My name is \"*name_str) \n",
    "end\n",
    "\n",
    "\n",
    "function test()\n",
    "   hello(\"Richard\")\n",
    "end\n",
    "\n",
    "test()"
   ]
  },
  {
   "cell_type": "markdown",
   "metadata": {},
   "source": [
    "### Discussion\n",
    "\n",
    "Put here some discussion about your code and the computation results.\n",
    "Or any other relevant remark that you would like to add."
   ]
  },
  {
   "cell_type": "code",
   "execution_count": null,
   "metadata": {
    "collapsed": true
   },
   "outputs": [],
   "source": []
  }
 ],
 "metadata": {
  "kernelspec": {
   "display_name": "Julia 0.6.0",
   "language": "julia",
   "name": "julia-0.6"
  },
  "language_info": {
   "file_extension": ".jl",
   "mimetype": "application/julia",
   "name": "julia",
   "version": "0.6.0"
  }
 },
 "nbformat": 4,
 "nbformat_minor": 2
}
